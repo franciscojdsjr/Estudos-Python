{
 "cells": [
  {
   "cell_type": "markdown",
   "metadata": {},
   "source": [
    "# Python e API com Login\n",
    "\n",
    "### O 1º Passo de toda API com Login é criar uma conta e pegar suas credenciais\n",
    "\n",
    "### No seu código, o 1º passo é sempre estabelecer a conexão com a API, usando seu login e suas credenciais\n",
    "\n",
    "- Como cada API é uma ferramenta diferente, cada uma delas pode exigir que você faça algum tipo de configuração, que vai estar explicada na API. No nosso caso, teremos que validar um número e criar um número de envio\n",
    "\n",
    "- Depois, usamos os métodos da API normalmente para fazer o que queremos. No nosso caso, enviar um SMS"
   ]
  },
  {
   "cell_type": "markdown",
   "metadata": {},
   "source": [
    "#### 1. Vamos criar um login no Twilio\n",
    "\n",
    "https://www.twilio.com/docs/libraries/python"
   ]
  },
  {
   "cell_type": "markdown",
   "metadata": {},
   "source": [
    "#### 2. Depois do Login, vamos pegar 3 informações:\n",
    "\n",
    "- ID da Conta\n",
    "- Token\n",
    "- Número de Envio"
   ]
  },
  {
   "cell_type": "markdown",
   "metadata": {},
   "source": [
    "#### 3. Agora vamos validar um número porque no Twilio, enviar SMS para um número válido é de graça"
   ]
  },
  {
   "cell_type": "markdown",
   "metadata": {},
   "source": [
    "#### 4. Agora podemos fazer o nosso código de acordo com as orientações do Twilio"
   ]
  },
  {
   "cell_type": "code",
   "execution_count": 4,
   "metadata": {},
   "outputs": [
    {
     "name": "stdout",
     "output_type": "stream",
     "text": [
      "SMdb2cc7ff45c712ec516ed0204b705700\n"
     ]
    }
   ],
   "source": [
    "from twilio.rest import Client\n",
    "\n",
    "# Your Account SID from twilio.com/console\n",
    "account_sid = \"ACca596e344a09c84e754760acd235c786\"\n",
    "# Your Auth Token from twilio.com/console\n",
    "auth_token  = \"2edfe990180d5568d73d317c0d59e259\"\n",
    "\n",
    "client = Client(account_sid, auth_token)\n",
    "\n",
    "message = client.messages.create(\n",
    "    to=\"+5582981772661\", \n",
    "    from_=\"+14754053461\",\n",
    "    body=\"Hello from Python!\")\n",
    "\n",
    "print(message.sid)"
   ]
  }
 ],
 "metadata": {
  "kernelspec": {
   "display_name": "Python 3",
   "language": "python",
   "name": "python3"
  },
  "language_info": {
   "codemirror_mode": {
    "name": "ipython",
    "version": 3
   },
   "file_extension": ".py",
   "mimetype": "text/x-python",
   "name": "python",
   "nbconvert_exporter": "python",
   "pygments_lexer": "ipython3",
   "version": "3.9.13"
  }
 },
 "nbformat": 4,
 "nbformat_minor": 4
}
