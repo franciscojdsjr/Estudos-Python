{
 "cells": [
  {
   "cell_type": "markdown",
   "metadata": {},
   "source": [
    "# Exercícios\n",
    "\n",
    "## 1. Cadastro de CPF\n",
    "\n",
    "Crie um programa para cadastro de CPF de clientes que recebe o CPF em um input box apenas com números.\n",
    "\n",
    "Ex: 'Insira seu CPF (digite apenas números)'\n",
    "\n",
    "Caso o usuário digite algo diferente de números ou digite menos de 11 caracteres (tamanho do CPF brasileiro), o programa deve exibir uma mensagem de \"Digite seu CPF corretamente e digite apenas números\""
   ]
  },
  {
   "cell_type": "code",
   "execution_count": 36,
   "metadata": {},
   "outputs": [
    {
     "name": "stdout",
     "output_type": "stream",
     "text": [
      "Verificar CNPJ fora do padrão inserido: \"01 277 404 0001 60\" esse CNPJ possui 18 digitos o CNPJ deve contar 14 digitos\n"
     ]
    }
   ],
   "source": [
    "'''## Validador CPF\n",
    "\n",
    "cpf = input('Digite seu CPF:')\n",
    "\n",
    "\n",
    "if cpf.isnumeric() == True and len(cpf) == 11:\n",
    "    print('CPF Inserido em nosso banco de dados!')\n",
    "else: \n",
    "    print('Digite seu CPF corretamente e digite apenas números')'''\n",
    "\n",
    "##Validador Cnpj -- 19/11    \n",
    "    \n",
    "cnpj_input = input('Digite seu CNPJ:')\n",
    "cnpj = cnpj_input.replace('-./','').replace(' ','').strip() #Tratar simbolos\n",
    "\n",
    "\n",
    "if cnpj.isnumeric() == True and len(cnpj) == 14:\n",
    "    cnpj = '{}.{}.{}/{}-{}'.format(cnpj[0:2], cnpj[2:5], cnpj[5:8], cnpj[8:12], cnpj[12:]) #formatar padrão cnpj\n",
    "    print('CNPJ: {} é valido e inserido em nosso banco de dados'.format(cnpj))\n",
    "else:\n",
    "    print('Verificar CNPJ fora do padrão inserido: \"{}\" esse CNPJ possui {} digitos o CNPJ deve contar 14 digitos'.format(cnpj_input,len(cnpj_input)))"
   ]
  },
  {
   "cell_type": "markdown",
   "metadata": {},
   "source": [
    "## 2. Melhorando nosso Cadastro de CPF\n",
    "\n",
    "Agora, além das validações anteriores, vamos criar um input que permita que o usuário insira pontos, traços e inclusive espaços vazios.\n",
    "\n",
    "Nosso programa deve \"tratar\" o que o usuário inserir para padronizar o CPF dele em apenas números.\n",
    "\n",
    "A verificação de tamanho do CPF com 11 caracteres continua válida, mas ela só deve ser feita depois de retirar todos os pontos, traços e espaços do CPF que o cliente inserir e, uma vez retirados pontos, traços e espaços, devem sobrar apenas números no CPF. Qualquer outro caractere deve ser considerado inválido.\n",
    "\n",
    "No final, nosso programa deve exibir uma mensagem para o usuário, caso ele tenha inserido o CPF inválido ou então apenas deve printar o CPF correto já só com número."
   ]
  },
  {
   "cell_type": "code",
   "execution_count": 46,
   "metadata": {},
   "outputs": [
    {
     "name": "stdout",
     "output_type": "stream",
     "text": [
      "Digite seu CPF incorretamente, CPF inserido: 013277404600, o CPF digitado possui 12 digitos\n"
     ]
    }
   ],
   "source": [
    "cpf_input = input('Digite seu CPF:')\n",
    "cpf = cpf_input.strip().replace('.-','').replace(' ','')\n",
    "\n",
    "\n",
    "if cpf.isnumeric() == True and len(cpf) == 11:\n",
    "    cpf_input = '{}.{}.{}-{}'.format(cpf[0:3],cpf[3:6],cpf[6:9],cpf[9:])\n",
    "    print('CPF {} Inserido em nosso banco de dados!'.format(cpf_input))\n",
    "else: \n",
    "    print('Digite seu CPF incorretamente, CPF inserido: {}, o CPF digitado possui {} digitos'.format(cpf_input,len(cpf_input)))"
   ]
  },
  {
   "cell_type": "markdown",
   "metadata": {},
   "source": [
    "## 3. Cadastro de e-mails\n",
    "\n",
    "- A Hashtag sempre se comunica com seus clientes por e-mail. Para isso, a gente tem em cada página um cadastro de nome e e-mail. Nesse cadastro, nosso sistema verifica se o e-mail que a pessoa inseriu é um e-mail válido, verificando se ele tem '@' e se depois do '@' tem algum ponto, afinal:\n",
    "\n",
    "- liragmail.com NÃO é um e-mail válido\n",
    "- lira@gmail NÃO é um e-mail válido\n",
    "- lira@gmail.com é um e-mail válido\n",
    "\n",
    "Crie um programa que permita o cadastro de nome e e-mail de uma pessoa (por meio de inputs) e que verifique:\n",
    "1. Se nome e e-mail foram preenchidos, caso contrário ele deve avisar para preencher todos os dados corretamente\n",
    "2. Se o e-mail contém '@' e se depois do '@' existe algum '.', caso contrário ele deve exibir uma mensagem de e-mail inválido\n",
    "\n",
    "Obs: Pode te ajudar lembrar do método .find da aula de Métodos de String. Você pode testar o que ele dá como resposta caso ele não encontre um item dentro da string"
   ]
  },
  {
   "cell_type": "code",
   "execution_count": 49,
   "metadata": {},
   "outputs": [
    {
     "name": "stdout",
     "output_type": "stream",
     "text": [
      "Você não preencheu os campos de nome e email.\n"
     ]
    }
   ],
   "source": [
    "nome = input('Digite seu Nome: ')\n",
    "email = input('Digite seu E-mail: ')\n",
    "null = ''\n",
    "\n",
    "if nome and email:\n",
    "    if ('@' and '.' in email[email.find('@'):]) == True:\n",
    "        print('Obrigado {}, seu email {}, foi cadastrado corretamente'.format(nome,email))\n",
    "    else: \n",
    "        print('{}, Por favor verificar email preenchido!'.format(nome))\n",
    "elif nome == null and email == null:\n",
    "    print('Você não preencheu os campos de nome e email.')\n",
    "elif nome == null:\n",
    "    print('Você não preencheu o campo de nome.')\n",
    "else:\n",
    "    print('Você não preencheu o campo de e-mail.')\n"
   ]
  }
 ],
 "metadata": {
  "kernelspec": {
   "display_name": "Python 3.9.12 ('base')",
   "language": "python",
   "name": "python3"
  },
  "language_info": {
   "codemirror_mode": {
    "name": "ipython",
    "version": 3
   },
   "file_extension": ".py",
   "mimetype": "text/x-python",
   "name": "python",
   "nbconvert_exporter": "python",
   "pygments_lexer": "ipython3",
   "version": "3.9.12"
  },
  "vscode": {
   "interpreter": {
    "hash": "e03b612d84ba21ce95ed447e81b3062e1eb99b56c6d885cdab4aaa12f1b8e240"
   }
  }
 },
 "nbformat": 4,
 "nbformat_minor": 4
}
