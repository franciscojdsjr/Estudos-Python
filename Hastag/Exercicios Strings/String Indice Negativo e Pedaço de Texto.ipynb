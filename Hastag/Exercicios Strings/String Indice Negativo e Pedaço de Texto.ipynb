{
 "cells": [
  {
   "cell_type": "raw",
   "metadata": {},
   "source": [
    "Texto: lira@gmail.com\n",
    "\n",
    "-14 -13 -12 -11 -10 -9 -8 -7 -6 -5 -4 -3 -2 -1\n",
    "  l   i   r   a   @  g  m  a  i  l  .  c  o  m\n",
    "  0   1   2   3   4  5  6  7  8  9 10 11 12 13\n",
    "  \n",
    "Para pegar um texto de trás para frente: texto[índice] -> onde índice é negativo\n",
    "Para pegar o pedaço de um texto use : (dois pontos). texto[:indice] ou texto[indice:] ou ainda texto[indice:indice]"
   ]
  },
  {
   "cell_type": "code",
   "execution_count": 10,
   "metadata": {},
   "outputs": [
    {
     "data": {
      "text/plain": [
       "'gmail.com'"
      ]
     },
     "execution_count": 10,
     "metadata": {},
     "output_type": "execute_result"
    }
   ],
   "source": [
    "email = 'franciscojdsjr@gmail.com'\n",
    "nome = 'João Paulo Lira'\n",
    "\n",
    "\n",
    "\n",
    "\n",
    "email[(email.find('@') + 1):]"
   ]
  },
  {
   "cell_type": "markdown",
   "metadata": {},
   "source": [
    "Exercícios para Fixação:\n",
    "Basta completar os prints de forma correta"
   ]
  },
  {
   "cell_type": "code",
   "execution_count": 17,
   "metadata": {},
   "outputs": [
    {
     "name": "stdout",
     "output_type": "stream",
     "text": [
      "Tamanho do e-mail: 24 caracteres\n",
      "Primeiro Caractere: r\n",
      "Último Caractere: m\n",
      "Servidor do email: gmail.com\n"
     ]
    }
   ],
   "source": [
    "print('Tamanho do e-mail: ' + str(len(email)) + ' caracteres')\n",
    "print('Primeiro Caractere: ' +  str(email[1]))\n",
    "print('Último Caractere: ' + str(email[-1]))\n",
    "print('Servidor do email: ' + email[(email.find('@') + 1): ])"
   ]
  }
 ],
 "metadata": {
  "kernelspec": {
   "display_name": "Python 3.9.12 ('base')",
   "language": "python",
   "name": "python3"
  },
  "language_info": {
   "codemirror_mode": {
    "name": "ipython",
    "version": 3
   },
   "file_extension": ".py",
   "mimetype": "text/x-python",
   "name": "python",
   "nbconvert_exporter": "python",
   "pygments_lexer": "ipython3",
   "version": "3.9.12"
  },
  "vscode": {
   "interpreter": {
    "hash": "e03b612d84ba21ce95ed447e81b3062e1eb99b56c6d885cdab4aaa12f1b8e240"
   }
  }
 },
 "nbformat": 4,
 "nbformat_minor": 4
}
