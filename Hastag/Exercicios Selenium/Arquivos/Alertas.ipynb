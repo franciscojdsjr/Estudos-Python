{
 "cells": [
  {
   "cell_type": "markdown",
   "id": "367cd714",
   "metadata": {},
   "source": [
    "### Documentação Selenium:\n",
    "\n",
    "- https://selenium-python.readthedocs.io/locating-elements.html"
   ]
  },
  {
   "cell_type": "code",
   "execution_count": null,
   "id": "4e28f9f7",
   "metadata": {},
   "outputs": [],
   "source": [
    "from selenium import webdriver\n",
    "from selenium.webdriver.chrome.service import Service\n",
    "from webdriver_manager.chrome import ChromeDriverManager\n",
    "from selenium.webdriver.common.by import By\n",
    "\n",
    "servico = Service(ChromeDriverManager().install())\n",
    "navegador = webdriver.Chrome(service=servico)"
   ]
  },
  {
   "cell_type": "code",
   "execution_count": null,
   "id": "59c8398d",
   "metadata": {},
   "outputs": [],
   "source": [
    "import os\n",
    "\n",
    "caminho = os.getcwd()\n",
    "arquivo = caminho + r\"\\alertas.html\"\n",
    "navegador.get(arquivo)"
   ]
  },
  {
   "cell_type": "markdown",
   "id": "7d964ce5",
   "metadata": {},
   "source": [
    "#### Alertas Básicos"
   ]
  },
  {
   "cell_type": "code",
   "execution_count": null,
   "id": "09f60749",
   "metadata": {},
   "outputs": [],
   "source": [
    "# selecionar um alerta\n",
    "navegador.find_element(By.XPATH, '/html/body/div[1]/input').click()"
   ]
  },
  {
   "cell_type": "code",
   "execution_count": null,
   "id": "98088545",
   "metadata": {},
   "outputs": [],
   "source": [
    "# forma simples\n",
    "# alerta = navegador.switch_to.alert\n",
    "# alerta.accept()\n",
    "\n",
    "# forma \"completa\"\n",
    "from selenium.webdriver.common.alert import Alert\n",
    "\n",
    "alerta = Alert(navegador)\n",
    "alerta.accept()"
   ]
  },
  {
   "cell_type": "markdown",
   "id": "4de4428d",
   "metadata": {},
   "source": [
    "#### Alertas de Confirmação"
   ]
  },
  {
   "cell_type": "code",
   "execution_count": null,
   "id": "8e24aa4c",
   "metadata": {},
   "outputs": [],
   "source": [
    "navegador.find_element(By.XPATH, '/html/body/div[2]/input').click()\n",
    "\n",
    "alerta = Alert(navegador)\n",
    "\n",
    "# aceitar\n",
    "alerta.accept()\n",
    "\n",
    "# cancelar\n",
    "alerta.dismiss()"
   ]
  },
  {
   "cell_type": "markdown",
   "id": "9b50482d",
   "metadata": {},
   "source": [
    "#### Pegar o texto do alerta"
   ]
  },
  {
   "cell_type": "code",
   "execution_count": null,
   "id": "025b7002",
   "metadata": {},
   "outputs": [],
   "source": [
    "# navegador.find_element(By.XPATH, '/html/body/div[2]/input').click()\n",
    "\n",
    "alerta = Alert(navegador)\n",
    "texto = alerta.text\n",
    "print(texto)"
   ]
  },
  {
   "cell_type": "markdown",
   "id": "3d33f215",
   "metadata": {},
   "source": [
    "#### Alertas de Input"
   ]
  },
  {
   "cell_type": "code",
   "execution_count": null,
   "id": "675a16c0",
   "metadata": {},
   "outputs": [],
   "source": [
    "navegador.find_element(By.XPATH, '/html/body/div[3]/button').click()\n",
    "\n",
    "alerta = navegador.switch_to.alert\n",
    "time.sleep(2)"
   ]
  },
  {
   "cell_type": "code",
   "execution_count": null,
   "id": "05837e78",
   "metadata": {},
   "outputs": [],
   "source": [
    "alerta.send_keys('123123') # lembre que ele funciona, apesar de não aparecer\n",
    "alerta.accept()"
   ]
  },
  {
   "cell_type": "code",
   "execution_count": null,
   "id": "4bf5635a",
   "metadata": {},
   "outputs": [],
   "source": [
    "# alerta.accept()"
   ]
  }
 ],
 "metadata": {
  "kernelspec": {
   "display_name": "Python 3 (ipykernel)",
   "language": "python",
   "name": "python3"
  },
  "language_info": {
   "codemirror_mode": {
    "name": "ipython",
    "version": 3
   },
   "file_extension": ".py",
   "mimetype": "text/x-python",
   "name": "python",
   "nbconvert_exporter": "python",
   "pygments_lexer": "ipython3",
   "version": "3.9.7"
  }
 },
 "nbformat": 4,
 "nbformat_minor": 5
}
