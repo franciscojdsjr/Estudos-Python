{
 "cells": [
  {
   "cell_type": "markdown",
   "id": "367cd714",
   "metadata": {},
   "source": [
    "### Documentação Selenium:\n",
    "\n",
    "- https://selenium-python.readthedocs.io/locating-elements.html"
   ]
  },
  {
   "cell_type": "code",
   "execution_count": null,
   "id": "4e28f9f7",
   "metadata": {},
   "outputs": [],
   "source": [
    "from selenium import webdriver\n",
    "from selenium.webdriver.chrome.service import Service\n",
    "from webdriver_manager.chrome import ChromeDriverManager\n",
    "from selenium.webdriver.common.by import By\n",
    "\n",
    "servico = Service(ChromeDriverManager().install())\n",
    "navegador = webdriver.Chrome(service=servico)"
   ]
  },
  {
   "cell_type": "code",
   "execution_count": null,
   "id": "59c8398d",
   "metadata": {},
   "outputs": [],
   "source": [
    "import os\n",
    "\n",
    "caminho = os.getcwd()\n",
    "arquivo = caminho + r\"\\formulario.html\"\n",
    "navegador.get(arquivo)"
   ]
  },
  {
   "cell_type": "markdown",
   "id": "7d964ce5",
   "metadata": {},
   "source": [
    "#### Botão Padrão (clicar em botão)"
   ]
  },
  {
   "cell_type": "code",
   "execution_count": null,
   "id": "e5c8e21c",
   "metadata": {},
   "outputs": [],
   "source": [
    "navegador.find_element(By.XPATH, '/html/body/form/input[1]').click()\n",
    "alerta = navegador.switch_to.alert\n",
    "alerta.accept()"
   ]
  },
  {
   "cell_type": "markdown",
   "id": "1aeb33bf",
   "metadata": {},
   "source": [
    "#### Dica, esteja sempre atento ao atributo \"value\" dos inputs, ele pode te ajudar"
   ]
  },
  {
   "cell_type": "markdown",
   "id": "1331d937",
   "metadata": {},
   "source": [
    "#### Botão de Seleção estilo Checkbox (clicar no botão)"
   ]
  },
  {
   "cell_type": "code",
   "execution_count": null,
   "id": "f198b96a",
   "metadata": {},
   "outputs": [],
   "source": [
    "navegador.find_element(By.XPATH, '/html/body/form/input[2]').click()\n",
    "navegador.find_element(By.XPATH, '/html/body/form/input[3]').click()"
   ]
  },
  {
   "cell_type": "markdown",
   "id": "6bd35ffa",
   "metadata": {},
   "source": [
    "#### Botão de Seleção de Cores (enviar valor)"
   ]
  },
  {
   "cell_type": "code",
   "execution_count": null,
   "id": "aa36d2a7",
   "metadata": {},
   "outputs": [],
   "source": [
    "# RGB\n"
   ]
  },
  {
   "cell_type": "code",
   "execution_count": null,
   "id": "76a9b172",
   "metadata": {},
   "outputs": [],
   "source": [
    "# HEX\n",
    "navegador.find_element(By.XPATH, '/html/body/form/input[5]').send_keys('#2143E8')"
   ]
  },
  {
   "cell_type": "markdown",
   "id": "d1492596",
   "metadata": {},
   "source": [
    "#### Botão de Datas (enviar valor)"
   ]
  },
  {
   "cell_type": "code",
   "execution_count": null,
   "id": "7b3566a4",
   "metadata": {},
   "outputs": [],
   "source": [
    "navegador.find_element(By.XPATH, '/html/body/form/input[6]').send_keys('17/10/1994')"
   ]
  },
  {
   "cell_type": "markdown",
   "id": "b56c93ff",
   "metadata": {},
   "source": [
    "#### Botão de Datas com Horas (enviar valor)"
   ]
  },
  {
   "cell_type": "code",
   "execution_count": null,
   "id": "eb4e4b0f",
   "metadata": {},
   "outputs": [],
   "source": [
    "from selenium.webdriver.common.keys import Keys\n",
    "navegador.find_element(By.XPATH, '/html/body/form/input[7]').send_keys('17/10/1994', Keys.TAB, '23:50')"
   ]
  },
  {
   "cell_type": "markdown",
   "id": "2fcaf917",
   "metadata": {},
   "source": [
    "#### Botão para selecionar o arquivo (enviar valor com caminho completo)"
   ]
  },
  {
   "cell_type": "code",
   "execution_count": null,
   "id": "5f5c399a",
   "metadata": {},
   "outputs": [],
   "source": [
    "caminho = os.getcwd()\n",
    "arquivo = caminho + r\"\\Preenchendo Formularios.ipynb\"\n",
    "\n",
    "navegador.find_element(By.XPATH, '/html/body/form/input[8]').send_keys(arquivo)"
   ]
  },
  {
   "cell_type": "markdown",
   "id": "7964ee26",
   "metadata": {},
   "source": [
    "#### Botão para selecionar mês e ano (enviar valor)"
   ]
  },
  {
   "cell_type": "code",
   "execution_count": null,
   "id": "79237b1e",
   "metadata": {},
   "outputs": [],
   "source": [
    "navegador.find_element(By.XPATH, '/html/body/form/input[9]').send_keys('março', Keys.TAB, '2022')\n",
    "print(navegador.find_element(By.XPATH, '/html/body/form/input[9]').get_attribute('value'))"
   ]
  },
  {
   "cell_type": "markdown",
   "id": "22fd42a3",
   "metadata": {},
   "source": [
    "#### Campos Numéricos"
   ]
  },
  {
   "cell_type": "code",
   "execution_count": null,
   "id": "bc5286c4",
   "metadata": {},
   "outputs": [],
   "source": [
    "navegador.find_element(By.XPATH, '/html/body/form/input[10]').send_keys(123)"
   ]
  },
  {
   "cell_type": "markdown",
   "id": "1b66d082",
   "metadata": {},
   "source": [
    "#### Campos de Senha"
   ]
  },
  {
   "cell_type": "code",
   "execution_count": null,
   "id": "44742a32",
   "metadata": {},
   "outputs": [],
   "source": [
    "navegador.find_element(By.XPATH, '/html/body/form/input[11]').send_keys('SenhaBolada')"
   ]
  },
  {
   "cell_type": "markdown",
   "id": "3a138091",
   "metadata": {},
   "source": [
    "#### RadioButtons (botões que só consegue marcar 1)"
   ]
  },
  {
   "cell_type": "code",
   "execution_count": null,
   "id": "c4528b7e",
   "metadata": {},
   "outputs": [],
   "source": [
    "navegador.find_element(By.XPATH, '/html/body/form/input[13]').click()"
   ]
  },
  {
   "cell_type": "markdown",
   "id": "53c578e0",
   "metadata": {},
   "source": [
    "#### Slider (enviar valor)"
   ]
  },
  {
   "cell_type": "code",
   "execution_count": null,
   "id": "61c3df2e",
   "metadata": {},
   "outputs": [],
   "source": [
    "navegador.find_element(By.XPATH, '/html/body/form/input[15]').clear()\n",
    "navegador.find_element(By.XPATH, '/html/body/form/input[15]').get_attribute('value')\n",
    "for i in range(20):\n",
    "    navegador.find_element(By.XPATH, '/html/body/form/input[15]').send_keys(Keys.RIGHT)\n",
    "navegador.find_element(By.XPATH, '/html/body/form/input[15]').get_attribute('value')"
   ]
  },
  {
   "cell_type": "code",
   "execution_count": null,
   "id": "52e312c5",
   "metadata": {},
   "outputs": [],
   "source": []
  },
  {
   "cell_type": "markdown",
   "id": "6a159f03",
   "metadata": {},
   "source": [
    "#### Caixa de Texto"
   ]
  },
  {
   "cell_type": "code",
   "execution_count": null,
   "id": "5a6df24a",
   "metadata": {},
   "outputs": [],
   "source": [
    "navegador.find_element(By.XPATH, '/html/body/form/input[16]').send_keys('Vasco')"
   ]
  },
  {
   "cell_type": "markdown",
   "id": "0018170a",
   "metadata": {},
   "source": [
    "#### Caixa de Horas"
   ]
  },
  {
   "cell_type": "code",
   "execution_count": null,
   "id": "1c797366",
   "metadata": {},
   "outputs": [],
   "source": [
    "navegador.find_element(By.XPATH, '/html/body/form/input[17]').send_keys('21:30')"
   ]
  },
  {
   "cell_type": "markdown",
   "id": "3292b5cf",
   "metadata": {},
   "source": [
    "#### Caixa de Data Personalizada (Semanal)"
   ]
  },
  {
   "cell_type": "code",
   "execution_count": null,
   "id": "32161c3d",
   "metadata": {},
   "outputs": [],
   "source": [
    "navegador.find_element(By.XPATH, '/html/body/form/input[18]').send_keys('13', '2020')\n",
    "navegador.find_element(By.XPATH, '/html/body/form/input[18]').get_attribute('value')"
   ]
  },
  {
   "cell_type": "markdown",
   "id": "f6e6ee72",
   "metadata": {},
   "source": [
    "#### Blocos de texto (enviar valor)"
   ]
  },
  {
   "cell_type": "code",
   "execution_count": null,
   "id": "db106cb7",
   "metadata": {},
   "outputs": [],
   "source": [
    "navegador.find_element(By.XPATH, '//*[@id=\"story\"]').send_keys('Olá', Keys.ENTER, 'Coe galera, tudo certo?', Keys.ENTER, 'Bora voar', Keys.ENTER, 'Fechou')"
   ]
  },
  {
   "cell_type": "markdown",
   "id": "dbf66079",
   "metadata": {},
   "source": [
    "#### Selecionando itens de uma lista"
   ]
  },
  {
   "cell_type": "code",
   "execution_count": null,
   "id": "d40d0b50",
   "metadata": {},
   "outputs": [],
   "source": [
    "# enviando o valor\n",
    "navegador.find_element(By.XPATH, '/html/body/form/select[1]').send_keys('B')"
   ]
  },
  {
   "cell_type": "code",
   "execution_count": null,
   "id": "561b10f4",
   "metadata": {},
   "outputs": [],
   "source": [
    "# selecionando manualmente\n",
    "import time\n",
    "navegador.find_element(By.XPATH, '/html/body/form/select[1]').click()\n",
    "time.sleep(0.5)\n",
    "navegador.find_element(By.XPATH, '/html/body/form/select[1]/option[3]').click()"
   ]
  },
  {
   "cell_type": "code",
   "execution_count": null,
   "id": "246da3f3",
   "metadata": {},
   "outputs": [],
   "source": [
    "# com o select\n",
    "# próxima aula\n",
    "from selenium.webdriver.support.select import Select\n",
    "\n",
    "elemento = navegador.find_element(By.TAG_NAME, 'select')\n",
    "elemento_select = Select(elemento)\n",
    "\n",
    "elemento_select.select_by_visible_text('C')"
   ]
  },
  {
   "cell_type": "code",
   "execution_count": null,
   "id": "ce34f47b",
   "metadata": {},
   "outputs": [],
   "source": [
    "valores = elemento_select.all_selected_options\n",
    "print(valores[0].get_attribute(\"value\"))"
   ]
  }
 ],
 "metadata": {
  "kernelspec": {
   "display_name": "Python 3 (ipykernel)",
   "language": "python",
   "name": "python3"
  },
  "language_info": {
   "codemirror_mode": {
    "name": "ipython",
    "version": 3
   },
   "file_extension": ".py",
   "mimetype": "text/x-python",
   "name": "python",
   "nbconvert_exporter": "python",
   "pygments_lexer": "ipython3",
   "version": "3.9.7"
  }
 },
 "nbformat": 4,
 "nbformat_minor": 5
}
