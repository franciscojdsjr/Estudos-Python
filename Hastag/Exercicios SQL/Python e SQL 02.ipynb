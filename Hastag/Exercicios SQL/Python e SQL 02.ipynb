{
 "cells": [
  {
   "cell_type": "markdown",
   "metadata": {},
   "source": [
    "# Biblioteca pyodbc\n",
    "\n",
    "1. Precisamos criar uma conexão com o banco de dados."
   ]
  },
  {
   "cell_type": "raw",
   "metadata": {},
   "source": [
    "dados_conexao = (\"Driver={SQL Server};\"\n",
    "                \"Server=SeuServidor;\"\n",
    "                Database=NomeBaseDeDados;\")\n",
    "          \n",
    "Se estivéssemos usando outro sistema de banco de dados, nosso driver mudaria. Para saber em outros casos, execute:\n",
    "pyodbc.drivers() -> caso não encontre seu driver ali, basta buscar no google por \"driver MeuBancoDeDados for pyodbc\" e baixar"
   ]
  },
  {
   "cell_type": "code",
   "execution_count": 12,
   "metadata": {},
   "outputs": [
    {
     "name": "stdout",
     "output_type": "stream",
     "text": [
      "Conexão Bem sucedida\n"
     ]
    }
   ],
   "source": [
    "import pyodbc\n",
    "\n",
    "dados_conexao = (\"Driver={SQL Server};\"\n",
    "            \"Server=ACER-RYZEN\\SQLEXPRESS;\"\n",
    "            \"Database=ContosoRetailDW;\")\n",
    "\n",
    "#caso precisasse de login e senha:\n",
    "#dados_conexao = (\"Driver={SQL Server Native Client 11.0};\"\n",
    "#            \"Server=UKXXX00123,45600;\"\n",
    "#            \"Database=DB01;\"\n",
    "#            \"UID=Login;\"\n",
    "#            \"PWD=Senha;\")\n",
    "\n",
    "\n",
    "conexao = pyodbc.connect(dados_conexao)\n",
    "print('Conexão Bem sucedida')"
   ]
  },
  {
   "cell_type": "markdown",
   "metadata": {},
   "source": [
    "2. Agora, precisamos criar o que o pyodbc chama de cursor, que é basicamente quem vai executar os nossos códigos SQL"
   ]
  },
  {
   "cell_type": "code",
   "execution_count": 11,
   "metadata": {},
   "outputs": [],
   "source": [
    "cursor = conexao.cursor()"
   ]
  },
  {
   "cell_type": "markdown",
   "metadata": {},
   "source": [
    "3. Agora já podemos executar nossos comandos SQL.\n",
    "\n",
    "Temos 2 opções aqui:<br>\n",
    "    1. Apenas Executar comandos SQL que vão acontecer no banco\n",
    "    2. Executar o comando SQL e armazenar a consulta em uma variável no Python, como um dataframe do pandas\n",
    "\n",
    "Vamos usar a 2ª opção por ser a mais útil e melhor para o nosso objetivo, até porque normalmente não teremos acesso de edição ao banco de dados (e devemos tomar MUITO cuidado com isso)."
   ]
  },
  {
   "cell_type": "raw",
   "metadata": {},
   "source": [
    "dataframe = pd.read_sql('COMANDO_SQL', conexao) -> vai executar o comando SQL, gerando uma consulta e retornando a resposta dessa consulta para o dataframe\n",
    "\n",
    "Para pegar uma tabela inteira do nosso banco de dados, usaremos o comando SQL Select *:\n",
    "\"SELECT * FROM BaseDeDados.Tabela\""
   ]
  },
  {
   "cell_type": "code",
   "execution_count": 13,
   "metadata": {},
   "outputs": [
    {
     "data": {
      "text/html": [
       "<div>\n",
       "<style scoped>\n",
       "    .dataframe tbody tr th:only-of-type {\n",
       "        vertical-align: middle;\n",
       "    }\n",
       "\n",
       "    .dataframe tbody tr th {\n",
       "        vertical-align: top;\n",
       "    }\n",
       "\n",
       "    .dataframe thead th {\n",
       "        text-align: right;\n",
       "    }\n",
       "</style>\n",
       "<table border=\"1\" class=\"dataframe\">\n",
       "  <thead>\n",
       "    <tr style=\"text-align: right;\">\n",
       "      <th></th>\n",
       "      <th>ProductKey</th>\n",
       "      <th>ProductLabel</th>\n",
       "      <th>ProductName</th>\n",
       "      <th>ProductDescription</th>\n",
       "      <th>ProductSubcategoryKey</th>\n",
       "      <th>Manufacturer</th>\n",
       "      <th>BrandName</th>\n",
       "      <th>ClassID</th>\n",
       "      <th>ClassName</th>\n",
       "      <th>StyleID</th>\n",
       "      <th>...</th>\n",
       "      <th>UnitCost</th>\n",
       "      <th>UnitPrice</th>\n",
       "      <th>AvailableForSaleDate</th>\n",
       "      <th>StopSaleDate</th>\n",
       "      <th>Status</th>\n",
       "      <th>ImageURL</th>\n",
       "      <th>ProductURL</th>\n",
       "      <th>ETLLoadID</th>\n",
       "      <th>LoadDate</th>\n",
       "      <th>UpdateDate</th>\n",
       "    </tr>\n",
       "  </thead>\n",
       "  <tbody>\n",
       "    <tr>\n",
       "      <th>0</th>\n",
       "      <td>1</td>\n",
       "      <td>0101001</td>\n",
       "      <td>Contoso 512MB MP3 Player E51 Silver</td>\n",
       "      <td>512MB USB driver plays MP3 and WMA</td>\n",
       "      <td>1</td>\n",
       "      <td>Contoso, Ltd</td>\n",
       "      <td>Contoso</td>\n",
       "      <td>1</td>\n",
       "      <td>Economy</td>\n",
       "      <td>1</td>\n",
       "      <td>...</td>\n",
       "      <td>6.62</td>\n",
       "      <td>12.99</td>\n",
       "      <td>2005-05-03</td>\n",
       "      <td>None</td>\n",
       "      <td>On</td>\n",
       "      <td>None</td>\n",
       "      <td>None</td>\n",
       "      <td>1</td>\n",
       "      <td>2008-05-25 08:01:12</td>\n",
       "      <td>2008-05-25 08:01:12</td>\n",
       "    </tr>\n",
       "  </tbody>\n",
       "</table>\n",
       "<p>1 rows × 32 columns</p>\n",
       "</div>"
      ],
      "text/plain": [
       "   ProductKey ProductLabel                          ProductName  \\\n",
       "0           1      0101001  Contoso 512MB MP3 Player E51 Silver   \n",
       "\n",
       "                   ProductDescription  ProductSubcategoryKey  Manufacturer  \\\n",
       "0  512MB USB driver plays MP3 and WMA                      1  Contoso, Ltd   \n",
       "\n",
       "  BrandName ClassID ClassName StyleID  ... UnitCost UnitPrice  \\\n",
       "0   Contoso       1   Economy       1  ...     6.62     12.99   \n",
       "\n",
       "  AvailableForSaleDate StopSaleDate Status ImageURL  ProductURL ETLLoadID  \\\n",
       "0           2005-05-03         None     On     None        None         1   \n",
       "\n",
       "             LoadDate          UpdateDate  \n",
       "0 2008-05-25 08:01:12 2008-05-25 08:01:12  \n",
       "\n",
       "[1 rows x 32 columns]"
      ]
     },
     "metadata": {},
     "output_type": "display_data"
    }
   ],
   "source": [
    "#opção 1: apenas executar um comando no banco de dados\n",
    "# cursor.execute(\"SELECT * FROM BaseDeDados.Tabela\")\n",
    "# caso a operação não seja para criar uma consulta e sim um UPDATE, DELETE ou CREATE, você precisará fazer um commit\n",
    "#da sua operação no banco de dados para implementar (não aconselhável se você não tem certeza que pode fazer isso)\n",
    "# conexao.commit()\n",
    "\n",
    "#opção 2: puxar uma consulta para o banco de dados com o pandas\n",
    "import pandas as pd\n",
    "produtos_df = pd.read_sql('SELECT * FROM ContosoRetailDW.dbo.DimProduct where productkey = 1', conexao)\n",
    "display(produtos_df)"
   ]
  }
 ],
 "metadata": {
  "kernelspec": {
   "display_name": "Python 3",
   "language": "python",
   "name": "python3"
  },
  "language_info": {
   "codemirror_mode": {
    "name": "ipython",
    "version": 3
   },
   "file_extension": ".py",
   "mimetype": "text/x-python",
   "name": "python",
   "nbconvert_exporter": "python",
   "pygments_lexer": "ipython3",
   "version": "3.9.13"
  }
 },
 "nbformat": 4,
 "nbformat_minor": 4
}
