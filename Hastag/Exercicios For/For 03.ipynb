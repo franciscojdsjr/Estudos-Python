{
 "cells": [
  {
   "cell_type": "markdown",
   "metadata": {},
   "source": [
    "# for + if\n",
    "\n",
    "### Estrutura:"
   ]
  },
  {
   "cell_type": "raw",
   "metadata": {},
   "source": [
    "for item in lista:\n",
    "    if condicao:\n",
    "        faça alguma coisa\n",
    "    else:\n",
    "        outra coisa"
   ]
  },
  {
   "cell_type": "markdown",
   "metadata": {},
   "source": [
    "Digamos que a gente esteja analisando a meta de vendas de vários funcionários de uma empresa. A meta de vendas é de 1000 reais em 1 dia.\n",
    "\n",
    "Temos uma lista com as vendas de todos os funcionários e quero calcular qual o % de pessoas que bateram a meta."
   ]
  },
  {
   "cell_type": "code",
   "execution_count": 18,
   "metadata": {},
   "outputs": [
    {
     "name": "stdout",
     "output_type": "stream",
     "text": [
      "6 pesosas bateram sua meta representando 26.09% e tambem 17 pessoas não bateram sua meta representando 73.91% da equipe\n",
      "Bateu a Meta 1200 vendas\n",
      "Não bateu a meta 300 vendas\n",
      "Não bateu a meta 800 vendas\n",
      "Bateu a Meta 1500 vendas\n",
      "Bateu a Meta 1900 vendas\n",
      "Bateu a Meta 2750 vendas\n",
      "Não bateu a meta 400 vendas\n",
      "Não bateu a meta 20 vendas\n",
      "Não bateu a meta 23 vendas\n",
      "Não bateu a meta 70 vendas\n",
      "Não bateu a meta 90 vendas\n",
      "Não bateu a meta 80 vendas\n",
      "Bateu a Meta 1100 vendas\n",
      "Não bateu a meta 999 vendas\n",
      "Não bateu a meta 900 vendas\n",
      "Não bateu a meta 880 vendas\n",
      "Não bateu a meta 870 vendas\n",
      "Não bateu a meta 50 vendas\n",
      "Bateu a Meta 1111 vendas\n",
      "Não bateu a meta 120 vendas\n",
      "Não bateu a meta 300 vendas\n",
      "Não bateu a meta 450 vendas\n",
      "Não bateu a meta 800 vendas\n"
     ]
    }
   ],
   "source": [
    "vendas = [1200, 300, 800, 1500, 1900, 2750, 400, 20, 23, 70, 90, 80, 1100, 999, 900, 880, 870, 50, 1111, 120, 300, 450, 800]\n",
    "meta = 1000\n",
    "\n",
    "qtde_bateu_meta = 0\n",
    "qtde_nao_bateu_meta = 0\n",
    "\n",
    "\n",
    "\n",
    "for venda in vendas:\n",
    "    if venda >= meta:\n",
    "        qtde_bateu_meta += 1\n",
    "    else:\n",
    "        qtde_nao_bateu_meta = qtde_nao_bateu_meta + 1\n",
    "        \n",
    "print('{} pesosas bateram sua meta representando {:.2%} e tambem {} pessoas não bateram sua meta representando {:.2%} da equipe'.format(qtde_bateu_meta,qtde_bateu_meta / len(vendas), qtde_nao_bateu_meta, qtde_nao_bateu_meta / len(vendas)))\n",
    "\n",
    "for venda in vendas:\n",
    "    if venda >= meta:\n",
    "        print('Bateu a Meta {} vendas'.format(venda))\n",
    "    else:\n",
    "        print('Não bateu a meta {} vendas'.format(venda))"
   ]
  }
 ],
 "metadata": {
  "kernelspec": {
   "display_name": "Python 3.9.12",
   "language": "python",
   "name": "python3"
  },
  "language_info": {
   "codemirror_mode": {
    "name": "ipython",
    "version": 3
   },
   "file_extension": ".py",
   "mimetype": "text/x-python",
   "name": "python",
   "nbconvert_exporter": "python",
   "pygments_lexer": "ipython3",
   "version": "3.9.12"
  },
  "vscode": {
   "interpreter": {
    "hash": "e03b612d84ba21ce95ed447e81b3062e1eb99b56c6d885cdab4aaa12f1b8e240"
   }
  }
 },
 "nbformat": 4,
 "nbformat_minor": 4
}
