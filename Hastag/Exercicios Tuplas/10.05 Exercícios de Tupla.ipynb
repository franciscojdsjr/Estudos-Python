{
 "cells": [
  {
   "cell_type": "markdown",
   "metadata": {},
   "source": [
    "# Exercícios\n",
    "\n",
    "São exercícios bem parecidos com os que fizemos com listas. Mas na tupla, podemos não só trabalhar com índices, mas fazer o \"unpacking\" das tuplas, o que pode facilitar nossos códigos.\n",
    "\n",
    "## 1. Análise de Vendas\n",
    "\n",
    "Nesse exercício vamos fazer uma \"análise simples\" de atingimento de Meta.\n",
    "\n",
    "Temos uma lista com os vendedores e os valores de vendas e queremos identificar (printar) quais os vendedores que bateram a meta e qual foi o valor que eles venderam."
   ]
  },
  {
   "cell_type": "code",
   "execution_count": 4,
   "metadata": {},
   "outputs": [
    {
     "name": "stdout",
     "output_type": "stream",
     "text": [
      "João bateu a meta de vendas, Total de vendas: 15000\n",
      "Julia bateu a meta de vendas, Total de vendas: 27000\n",
      "Ana bateu a meta de vendas, Total de vendas: 10300\n"
     ]
    }
   ],
   "source": [
    "meta = 10000\n",
    "vendas = [\n",
    "    ('João', 15000),\n",
    "    ('Julia', 27000),\n",
    "    ('Marcus', 9900),\n",
    "    ('Maria', 3750),\n",
    "    ('Ana', 10300),\n",
    "    ('Alon', 7870),\n",
    "]\n",
    "\n",
    "vendedor = {}\n",
    "qtde_vendas = 0\n",
    "\n",
    "for i in vendas:\n",
    "    vendedor, qtde_vendas = i\n",
    "    if qtde_vendas >= meta:\n",
    "        print('{} bateu a meta de vendas, Total de vendas: {}'.format(vendedor,qtde_vendas))\n",
    "        \n"
   ]
  },
  {
   "cell_type": "markdown",
   "metadata": {},
   "source": [
    "## 2. Comparação com Ano Anterior\n",
    "\n",
    "Digamos que você está analisando as vendas de produtos de um ecommerce e quer identificar quais produtos tiveram no ano de 2020 mais vendas do que no ano de 2019, para reportar isso para a diretoria.\n",
    "\n",
    "Sua resposta pode ser um print de cada produto, qual foi a venda de 2019, a venda de 2020 e o % de crescimento de 2020 para 2019.\n",
    "\n",
    "Lembrando, para calcular o % de crescimento de um produto de um ano para o outro, podemos fazer: (vendas_produto2020/vendas_produto2019 - 1)\n",
    "\n",
    "A lógica da tupla é: (produto, vendas2019, vendas2020)"
   ]
  },
  {
   "cell_type": "code",
   "execution_count": 12,
   "metadata": {},
   "outputs": [
    {
     "name": "stdout",
     "output_type": "stream",
     "text": [
      "O Produto iphone, teve 558147 vendas no ano de 2019 e em 2020 teve 951642 vendas, sendo 70.50% superior ao ano anterior\n",
      "O Produto tv, teve 405252 vendas no ano de 2019 e em 2020 teve 787604 vendas, sendo 94.35% superior ao ano anterior\n",
      "O Produto máquina de café, teve 718654 vendas no ano de 2019 e em 2020 teve 867660 vendas, sendo 20.73% superior ao ano anterior\n",
      "O Produto notebook dell, teve 422760 vendas no ano de 2019 e em 2020 teve 694913 vendas, sendo 64.38% superior ao ano anterior\n",
      "O Produto notebook hp, teve 154753 vendas no ano de 2019 e em 2020 teve 539704 vendas, sendo 248.75% superior ao ano anterior\n",
      "O Produto microsoft surface, teve 438508 vendas no ano de 2019 e em 2020 teve 667179 vendas, sendo 52.15% superior ao ano anterior\n",
      "O Produto webcam, teve 237467 vendas no ano de 2019 e em 2020 teve 295633 vendas, sendo 24.49% superior ao ano anterior\n",
      "O Produto caixa de som, teve 489705 vendas no ano de 2019 e em 2020 teve 725316 vendas, sendo 48.11% superior ao ano anterior\n",
      "O Produto microfone, teve 328311 vendas no ano de 2019 e em 2020 teve 644622 vendas, sendo 96.34% superior ao ano anterior\n",
      "O Produto câmera canon, teve 591120 vendas no ano de 2019 e em 2020 teve 994303 vendas, sendo 68.21% superior ao ano anterior\n"
     ]
    }
   ],
   "source": [
    "vendas_produtos = [('iphone', 558147, 951642), ('galaxy', 712350, 244295), ('ipad', 573823, 26964), ('tv', 405252, 787604), ('máquina de café', 718654, 867660), ('kindle', 531580, 78830), ('geladeira', 973139, 710331), ('adega', 892292, 646016), ('notebook dell', 422760, 694913), ('notebook hp', 154753, 539704), ('notebook asus', 887061, 324831), ('microsoft surface', 438508, 667179), ('webcam', 237467, 295633), ('caixa de som', 489705, 725316), ('microfone', 328311, 644622), ('câmera canon', 591120, 994303)]\n",
    "\n",
    "#seu código aqui\n",
    "produto = ''\n",
    "vendas2019 = 0\n",
    "vendas2020 = 0\n",
    "\n",
    "for i in vendas_produtos:\n",
    "    produto,vendas2019,vendas2020 = i\n",
    "    if vendas2020 > vendas2019:\n",
    "        print('O Produto {}, teve {} vendas no ano de 2019 e em 2020 teve {} vendas, sendo {:.2%} superior ao ano anterior'.format(produto,vendas2019,vendas2020,(vendas2020 / vendas2019) - 1 ))\n",
    "        \n"
   ]
  }
 ],
 "metadata": {
  "kernelspec": {
   "display_name": "Python 3.9.12",
   "language": "python",
   "name": "python3"
  },
  "language_info": {
   "codemirror_mode": {
    "name": "ipython",
    "version": 3
   },
   "file_extension": ".py",
   "mimetype": "text/x-python",
   "name": "python",
   "nbconvert_exporter": "python",
   "pygments_lexer": "ipython3",
   "version": "3.9.12"
  },
  "vscode": {
   "interpreter": {
    "hash": "e03b612d84ba21ce95ed447e81b3062e1eb99b56c6d885cdab4aaa12f1b8e240"
   }
  }
 },
 "nbformat": 4,
 "nbformat_minor": 4
}
