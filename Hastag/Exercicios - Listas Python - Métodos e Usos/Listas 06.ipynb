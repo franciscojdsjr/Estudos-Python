{
 "cells": [
  {
   "cell_type": "markdown",
   "metadata": {},
   "source": [
    "# Juntar Listas, Ordenar e Cuidados Especiais\n",
    "\n",
    "### 2 formas:\n",
    "\n",
    "- lista1.extend(lista2)\n",
    "- lista_nova = lista1 + lista2\n",
    "\n",
    "Obs: o Método .append não junta listas, mas adiciona um valor no final da lista"
   ]
  },
  {
   "cell_type": "code",
   "execution_count": 1,
   "metadata": {},
   "outputs": [
    {
     "name": "stdout",
     "output_type": "stream",
     "text": [
      "['apple tv', 'mac', 'iphone x', 'iphone 11', 'IPad', 'apple watch', 'mac book', 'airpods', 'iphone 12', 'ioculos']\n",
      "['apple tv', 'mac', 'iphone x', 'iphone 11', 'IPad', 'apple watch', 'mac book', 'airpods', 'iphone 12', 'ioculos', 'iphone 12', 'ioculos']\n"
     ]
    }
   ],
   "source": [
    "produtos = ['apple tv', 'mac', 'iphone x', 'iphone 11', 'IPad', 'apple watch', 'mac book', 'airpods']\n",
    "novos_produtos = ['iphone 12', 'ioculos']\n",
    "\n",
    "produtos.extend(novos_produtos)\n",
    "\n",
    "#OR\n",
    "\n",
    "todos_produtos = produtos + novos_produtos\n",
    "\n",
    "print(produtos)\n",
    "print(todos_produtos)"
   ]
  },
  {
   "cell_type": "markdown",
   "metadata": {},
   "source": [
    "### Cuidado:\n",
    "\n",
    "- [1] + [2] não é a mesma coisa que 1 + 2, então cuidado sempre com o formato dos valores na hora de fazer operações."
   ]
  },
  {
   "cell_type": "code",
   "execution_count": 7,
   "metadata": {},
   "outputs": [
    {
     "name": "stdout",
     "output_type": "stream",
     "text": [
      "[15000, 20000]\n",
      "35000\n",
      "35000\n"
     ]
    }
   ],
   "source": [
    "vendas = [1000, 1500, 15000, 20000, 270, 900, 100, 1200]\n",
    "vendas_iphonex = [15000]\n",
    "vendas_iphone11 = [20000]\n",
    "\n",
    "print(vendas_iphonex + vendas_iphone11)\n",
    "print(vendas_iphonex[0] + vendas_iphone11[0])\n",
    "print(vendas[2] + vendas[3])"
   ]
  },
  {
   "cell_type": "markdown",
   "metadata": {},
   "source": [
    "### Ordenar listas\n",
    "\n",
    "lista.sort()"
   ]
  },
  {
   "cell_type": "code",
   "execution_count": 12,
   "metadata": {},
   "outputs": [
    {
     "name": "stdout",
     "output_type": "stream",
     "text": [
      "['i30', 'XKR', 'XC90', 'XC60', 'XC40', 'X6', 'X5', 'X1', 'Voyage', 'Versa', 'Veracruz', 'Veloster', 'V60', 'V50', 'V40', 'Up', 'Uno', 'Tucson', 'Touareg', 'Tiggo', 'T6', 'Symbol', 'Star', 'SpaceFox', 'Soul', 'Sorento', 'Sonata', 'Sentra', 'Sedan', 'Sandero', 'SW4', 'S60', 'S-18', 'RS5', 'RAM', 'R8', 'Q3', 'Punto', 'Prius', 'Picanto', 'Passat', 'Partner', 'Parati', 'Optima', 'Mohave', 'March', 'Macan', 'Logan', 'Livina', 'Linea', 'Jumper', 'Jetta', 'J5', 'J3', 'J2', 'Idea', 'Hoggar', 'Hilux', 'HR', 'HB20X', 'HB20S', 'HB20', 'Golf', 'GLA', 'Fusion', 'Fusca', 'Frontier', 'Fox', 'Fluence', 'Fit', 'Face', 'Equus', 'Edge', 'EcoSport', 'Durango', 'Ducato', 'Doblo', 'DS5', 'DS3', 'Crossfox', 'Courier', 'Clio', 'Cherokee', 'Cerato', 'Cayman', 'Cayenne', 'Carnival', 'Carens', 'Camry', 'California', 'Cadenza', 'CR-V', 'CLA', 'C5', 'C30', 'Boxster', 'Boxer', 'Bongo', 'Azera', 'Alsvin', 'Aircross', 'Accord', 'ASX', 'A8', 'A7', 'A5', 'A3', 'A1']\n"
     ]
    }
   ],
   "source": [
    "carros = ['Passat', 'Crossfox', 'DS5', 'A5', 'Carens', 'Courier', 'S-18', 'J5', 'RAM', 'A3', 'XC90', 'Up', 'V40', 'Linea', 'J2', 'California', 'S60', 'Tucson', 'HB20', 'Optima', 'Logan', 'Sonata', 'CR-V', 'Versa', 'Carnival', 'Hoggar', 'A1', 'CLA', 'Accord', 'Sorento', 'Tiggo', 'Touareg', 'SW4', 'Doblo', 'Fit', 'C5', 'HB20S', 'Livina', 'Ducato', 'March', 'Hilux', 'Symbol', 'Fusion', 'Star', 'Cayenne', 'Fox', 'Face', 'Prius', 'Idea', 'A8', 'Edge', 'Frontier', 'EcoSport', 'J3', 'Q3', 'Veloster', 'Camry', 'Bongo', 'ASX', 'Sentra', 'Jumper', 'i30', 'X6', 'Voyage', 'Clio', 'Soul', 'Cayman', 'Jetta', 'Equus', 'Cherokee', 'Punto', 'Fluence', 'Durango', 'Boxster', 'Golf', 'V50', 'Picanto', 'Cadenza', 'Alsvin', 'T6', 'Azera', 'HB20X', 'HR', 'SpaceFox', 'C30', 'Parati', 'Sedan', 'Aircross', 'Sandero', 'XKR', 'X5', 'Partner', 'R8', 'Mohave', 'Fusca', 'XC40', 'Boxer', 'X1', 'GLA', 'DS3', 'Veracruz', 'V60', 'Uno', 'RS5', 'Cerato', 'XC60', 'A7', 'Macan']\n",
    "valores = [88078.64, 106161.94, 72832.16, 124549.07, 92612.1, 97497.73, 56445.2, 112310.44, 120716.27, 76566.49, 71647.59, 73919.53, 112732.99, 53183.38, 127488.42, 59910.4, 61118.59, 88552.39, 62696.69, 101726.3, 106147.38, 94564.4, 133529.84, 125684.65, 121596.21, 71367.1, 95347.75, 105432.84, 57045.27, 120432.7, 70707.2, 69105.18, 59358.69, 65955.4, 60017.03, 118909.52, 51606.59, 123281.87, 69770.18, 102609.54, 67997.19, 135235.29, 86641.34, 136818.39, 117626.73, 56208.7, 84222.65, 90781.65, 64701.1, 126350.49, 148152.89, 132298.83, 137627.63, 80422.71, 56373.99, 70846.03, 128694.23, 133329.19, 131961.43, 112033.27, 81399.35, 97163.1, 66007.16, 128776.22, 142623.02, 136930.13, 66526.61, 114154.87, 142392.75, 146716.91, 122485.68, 97951.03, 78283.49, 83434.04, 77836.23, 60813.92, 91353.86, 116281.21, 145197.7, 50742.1, 73033.53, 54332.87, 52207.45, 63578.5, 64507.72, 115075.59, 133030.6, 141591.86, 100380.28, 96369.04, 142603.84, 117709.67, 102241.54, 96065.38, 53894.61, 123911.78, 101996.35, 83431.66, 122975.63, 93227.73, 58762.65, 139549.67, 122016.42, 72731.98, 88416.54, 73873.42, 70709.34, 115306.5]\n",
    "ano_fabricacao = [2003, 1991, 1990, 2019, 2006, 2012, 2019, 2009, 2010, 2011, 2002, 2007, 2001, 2019, 2009, 2016, 2012, 2019, 2016, 2017, 2002, 2019, 1994, 1991, 2019, 2019, 2016, 2019, 2002, 1991, 1997, 1995, 2018, 1991, 2014, 1995, 2019, 2019, 2009, 2019, 2013, 2003, 2019, 2002, 2019, 2002, 2004, 2001, 2019, 2003, 2009, 2006, 2000, 2006, 2010, 1994, 2007, 2019, 2019, 2019, 2019, 2019, 2017, 2011, 2001, 1996, 2019, 1994, 2019, 2007, 1994, 2007, 1997, 2006, 2013, 1994, 2008, 2008, 2019, 2019, 1999, 2007, 1993, 1995, 2019, 2019, 2016, 2011, 2019, 2002, 2013, 2017, 2016, 2008, 2018, 2003, 2003, 2004, 2010, 2019, 2006, 2001, 2019, 2015, 2018, 2017, 1992, 2001]\n",
    "\n",
    "carros.sort(reverse = True)\n",
    "print(carros)\n"
   ]
  }
 ],
 "metadata": {
  "kernelspec": {
   "display_name": "Python 3.9.12 ('base')",
   "language": "python",
   "name": "python3"
  },
  "language_info": {
   "codemirror_mode": {
    "name": "ipython",
    "version": 3
   },
   "file_extension": ".py",
   "mimetype": "text/x-python",
   "name": "python",
   "nbconvert_exporter": "python",
   "pygments_lexer": "ipython3",
   "version": "3.9.12"
  },
  "vscode": {
   "interpreter": {
    "hash": "e03b612d84ba21ce95ed447e81b3062e1eb99b56c6d885cdab4aaa12f1b8e240"
   }
  }
 },
 "nbformat": 4,
 "nbformat_minor": 4
}
