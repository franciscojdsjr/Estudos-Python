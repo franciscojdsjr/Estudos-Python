{
 "cells": [
  {
   "cell_type": "markdown",
   "metadata": {},
   "source": [
    "# Adicionar e Remover itens de uma lista\n",
    "\n",
    "Adicionar:<br>\n",
    "lista.append(item)\n",
    "\n",
    "Remover:<br>\n",
    "item_removido = lista.pop(indice)<br>\n",
    "lista.remove(item)\n",
    "\n",
    "Digamos que você está construindo o controle de produtos da Apple.<br>\n",
    "E a Apple lançou o IPhone 11 e irá tirar dos seus estoques o IPhone X"
   ]
  },
  {
   "cell_type": "code",
   "execution_count": 27,
   "metadata": {},
   "outputs": [],
   "source": [
    "produtos = ['apple tv', 'mac', 'iphone x', 'ipad', 'apple watch', 'mac book', 'airpods']\n"
   ]
  },
  {
   "cell_type": "markdown",
   "metadata": {},
   "source": [
    "## Existem 2 formas de tratar o erro:\n",
    "\n",
    "1. Criar um if para evitar que ele aconteça\n",
    "\n",
    "2. Esperar que ele possa acontecer e tratar caso o erro aconteça com:"
   ]
  },
  {
   "cell_type": "code",
   "execution_count": 34,
   "metadata": {},
   "outputs": [
    {
     "name": "stdout",
     "output_type": "stream",
     "text": [
      "['apple tv', 'iphone x', 'apple watch', 'mac book', 'airpods', 'mac book pro', 'ipad', 'ipad2', 'mac2']\n"
     ]
    }
   ],
   "source": [
    "#Adicionar Produto\n",
    "produtos.append(input('Digite o Produto que deseja adicionar: '))\n",
    "\n",
    "\n",
    "#Remover Produto\n",
    "try:\n",
    "    produtos.remove(input('Digite o nome do produto a ser removido').lower())\n",
    "except: print('Produto não Encontrado')  \n",
    "##se quiser continuar e pular o erro só colocar except: pass \n",
    "\n",
    "\n",
    "print(produtos)\n"
   ]
  },
  {
   "cell_type": "code",
   "execution_count": 4,
   "metadata": {},
   "outputs": [
    {
     "name": "stdout",
     "output_type": "stream",
     "text": [
      "['apple tv', 'mac', 'IPad', 'apple watch', 'mac book', 'airpods']\n"
     ]
    }
   ],
   "source": [
    "print(produtos)"
   ]
  }
 ],
 "metadata": {
  "kernelspec": {
   "display_name": "Python 3.9.12 ('base')",
   "language": "python",
   "name": "python3"
  },
  "language_info": {
   "codemirror_mode": {
    "name": "ipython",
    "version": 3
   },
   "file_extension": ".py",
   "mimetype": "text/x-python",
   "name": "python",
   "nbconvert_exporter": "python",
   "pygments_lexer": "ipython3",
   "version": "3.9.12"
  },
  "vscode": {
   "interpreter": {
    "hash": "e03b612d84ba21ce95ed447e81b3062e1eb99b56c6d885cdab4aaa12f1b8e240"
   }
  }
 },
 "nbformat": 4,
 "nbformat_minor": 4
}
