{
 "cells": [
  {
   "cell_type": "markdown",
   "metadata": {},
   "source": [
    "# Como descobrir o índice de um item de uma lista?\n",
    "\n",
    "i = lista.index('item')"
   ]
  },
  {
   "cell_type": "markdown",
   "metadata": {},
   "source": [
    "Exemplo:\n",
    "\n",
    "Digamos que você puxou do Banco de Dados da sua empresa uma lista com todos os produtos que a empresa vende e a quantidade em estoque de todos eles."
   ]
  },
  {
   "cell_type": "code",
   "execution_count": 2,
   "metadata": {},
   "outputs": [],
   "source": [
    "produtos = ['tv', 'celular', 'tablet', 'mouse', 'teclado', 'geladeira', 'forno']\n",
    "estoque = [100, 150, 100, 120, 70, 180, 80]"
   ]
  },
  {
   "cell_type": "markdown",
   "metadata": {},
   "source": [
    "Nesse caso a lista é \"pequena\" para fins didáticos, mas essa lista poderia ter dezenas de milhares de produtos diferentes.\n",
    "\n",
    "E agora, como eu faço para descobrir a quantidade em estoque do produto geladeira?"
   ]
  },
  {
   "cell_type": "code",
   "execution_count": 5,
   "metadata": {},
   "outputs": [
    {
     "name": "stdout",
     "output_type": "stream",
     "text": [
      "Quantidade de estoque da celular é de: 150 unidades\n"
     ]
    }
   ],
   "source": [
    "i = produtos.index(input('Qual Produto deseja localizar?'))\n",
    "qtde_estoque = estoque[i]\n",
    "\n",
    "print('Quantidade de estoque da {} é de: {} unidades'.format(produtos[i],qtde_estoque))\n"
   ]
  },
  {
   "cell_type": "markdown",
   "metadata": {},
   "source": [
    "Crie um programa para fazer uma consulta de estoque. O usuário do programa deve inserir o nome do produto e, caso ele não exista na lista, ele deve ser avisado. Caso exista, o programa deve dizer a quantidade de unidades em estoque do produto"
   ]
  },
  {
   "cell_type": "code",
   "execution_count": 13,
   "metadata": {},
   "outputs": [
    {
     "name": "stdout",
     "output_type": "stream",
     "text": [
      "A quantidade de estoque do produto mouse é de: 120 unidades\n"
     ]
    }
   ],
   "source": [
    "produto = input('Digite o nome do produto: ').lower()\n",
    "if produto in produtos:\n",
    "    i = produtos.index(produto)\n",
    "    qtde_estoque = estoque[i]\n",
    "    print('A quantidade de estoque do produto {} é de: {} unidades'.format(produtos[i],qtde_estoque))\n",
    "else: print('Não temos o produto {} em estoque'.format(produto))\n",
    "\n"
   ]
  },
  {
   "cell_type": "code",
   "execution_count": 22,
   "metadata": {},
   "outputs": [
    {
     "name": "stdout",
     "output_type": "stream",
     "text": [
      "A quantidade de vendas do carro Celta foi de 70 unidades\n"
     ]
    }
   ],
   "source": [
    "carros = ['Palio','Gol','Fusca','Kombi','Celta','Onix','Prisma']\n",
    "vendas = [100, 150, 100, 120, 70, 180, 80]\n",
    "\n",
    "carro = input('Digite o nome do carro: ').capitalize()\n",
    "\n",
    "if carro in carros:\n",
    "    indice = carros.index(carro)\n",
    "    qtde_vendas = vendas[indice]\n",
    "    print('A quantidade de vendas do carro {} foi de {} unidades'.format(carros[indice],qtde_vendas))\n",
    "else:\n",
    "    print('Não temos esse modelo {} em estoque'.format(carro))"
   ]
  }
 ],
 "metadata": {
  "kernelspec": {
   "display_name": "Python 3.9.12 ('base')",
   "language": "python",
   "name": "python3"
  },
  "language_info": {
   "codemirror_mode": {
    "name": "ipython",
    "version": 3
   },
   "file_extension": ".py",
   "mimetype": "text/x-python",
   "name": "python",
   "nbconvert_exporter": "python",
   "pygments_lexer": "ipython3",
   "version": "3.9.12"
  },
  "vscode": {
   "interpreter": {
    "hash": "e03b612d84ba21ce95ed447e81b3062e1eb99b56c6d885cdab4aaa12f1b8e240"
   }
  }
 },
 "nbformat": 4,
 "nbformat_minor": 4
}
