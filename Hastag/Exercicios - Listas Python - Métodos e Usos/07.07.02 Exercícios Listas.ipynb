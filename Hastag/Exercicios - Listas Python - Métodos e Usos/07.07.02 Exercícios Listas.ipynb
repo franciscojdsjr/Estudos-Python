{
 "cells": [
  {
   "cell_type": "markdown",
   "metadata": {},
   "source": [
    "# Exercícios\n",
    "\n",
    "## 1. Faturamento do Melhor e do Pior Mês do Ano\n",
    "\n",
    "Qual foi o valor de vendas do melhor mês do Ano?\n",
    "E valor do pior mês do ano?"
   ]
  },
  {
   "cell_type": "code",
   "execution_count": 12,
   "metadata": {},
   "outputs": [],
   "source": [
    "meses = ['jan', 'fev', 'mar', 'abr', 'mai', 'jun', 'jul', 'ago', 'set', 'out', 'nov', 'dez']\n",
    "vendas_1sem = [25000, 29000, 22200, 17750, 15870, 19900]\n",
    "vendas_2sem = [19850, 20120, 17540, 15555, 49051, 9650]\n",
    "vendas_1sem.extend(vendas_2sem)\n",
    "vendas = vendas_1sem\n",
    "\n",
    "melhor_mes = meses[vendas.index(max(vendas))]\n",
    "pior_mes = meses[vendas.index(min(vendas))]\n",
    "valor_melhor = vendas[vendas.index(max(vendas))]\n",
    "valor_pior = vendas[vendas.index(min(vendas))]\n",
    "\n"
   ]
  },
  {
   "cell_type": "markdown",
   "metadata": {},
   "source": [
    "## 2. Continuação\n",
    "\n",
    "Agora relacione as duas listas para printar 'O melhor mês do ano foi {} com {} vendas' e o mesmo para o pior mês do ano.\n",
    "\n",
    "Calcule também o faturamento total do Ano e quanto que o melhor mês representou do faturamento total.\n",
    "\n",
    "Obs: Para o faturamento total, pode usar a função sum(lista) que soma todos os itens de uma lista"
   ]
  },
  {
   "cell_type": "code",
   "execution_count": 16,
   "metadata": {},
   "outputs": [
    {
     "name": "stdout",
     "output_type": "stream",
     "text": [
      "O melhor mês de vendas foi nov com 49051 produtos vendidos e o pior mês de vendas foi dez, com 9650 produtos vendidos\n",
      "Faturamento Total: R$158,435\n",
      "O melhor mês representou 30.96% das vendas do ano todo\n"
     ]
    }
   ],
   "source": [
    "print('O melhor mês de vendas foi {} com {} produtos vendidos e o pior mês de vendas foi {}, com {} produtos vendidos'.format(melhor_mes,valor_melhor,pior_mes,valor_pior))\n",
    "\n",
    "fat_total = sum(vendas)\n",
    "\n",
    "print('Faturamento Total: R${:,}'.format(fat_total))\n",
    "\n",
    "percentual = valor_melhor / fat_total\n",
    "\n",
    "print('O melhor mês representou {:.2%} das vendas do ano todo'.format(percentual))"
   ]
  },
  {
   "cell_type": "markdown",
   "metadata": {},
   "source": [
    "## 3. Crie uma lista com o top 3 valores de vendas do ano (sem fazer \"no olho\")\n",
    "\n",
    "Dica: o método remove retira um item da lista."
   ]
  },
  {
   "cell_type": "code",
   "execution_count": 13,
   "metadata": {},
   "outputs": [
    {
     "name": "stdout",
     "output_type": "stream",
     "text": [
      "O Maior valor de vendas foi R$49,051, o segundo maior valor foi R$29,000 e o terceiro maior valor foi R$25,000\n"
     ]
    }
   ],
   "source": [
    "top3 = []\n",
    "\n",
    "maior_valor = max(vendas)\n",
    "top3.append(maior_valor)\n",
    "vendas.remove(maior_valor)\n",
    "\n",
    "maior_valor = max(vendas)\n",
    "top3.append(maior_valor)\n",
    "vendas.remove(maior_valor)\n",
    "\n",
    "maior_valor = max(vendas)\n",
    "top3.append(maior_valor)\n",
    "vendas.remove(maior_valor)\n",
    "\n",
    "\n",
    "print('O Maior valor de vendas foi R${:,}, o segundo maior valor foi R${:,} e o terceiro maior valor foi R${:,}'.format(top3[0],top3[1],top3[2]))"
   ]
  }
 ],
 "metadata": {
  "kernelspec": {
   "display_name": "Python 3.9.12 ('base')",
   "language": "python",
   "name": "python3"
  },
  "language_info": {
   "codemirror_mode": {
    "name": "ipython",
    "version": 3
   },
   "file_extension": ".py",
   "mimetype": "text/x-python",
   "name": "python",
   "nbconvert_exporter": "python",
   "pygments_lexer": "ipython3",
   "version": "3.9.12"
  },
  "vscode": {
   "interpreter": {
    "hash": "e03b612d84ba21ce95ed447e81b3062e1eb99b56c6d885cdab4aaa12f1b8e240"
   }
  }
 },
 "nbformat": 4,
 "nbformat_minor": 4
}
