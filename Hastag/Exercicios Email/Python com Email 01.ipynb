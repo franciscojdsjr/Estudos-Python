{
 "cells": [
  {
   "cell_type": "markdown",
   "metadata": {},
   "source": [
    "# Integração Python com E-mail\n",
    "\n",
    "### 2 formas de integrar:\n",
    "\n",
    "- Gmail\n",
    "- Outlook\n",
    "\n",
    "Vamos primeiro falar do método Gmail e depois do Outlook. Eles são bem diferentes, então você não precisa saber um para usar o outro."
   ]
  },
  {
   "cell_type": "markdown",
   "metadata": {},
   "source": [
    "### Método Gmail\n",
    "\n",
    "- Você precisa liberar o seu e-mail para esse tipo de atividade. (ou criar um e-mail novo)<br>\n",
    "https://myaccount.google.com/lesssecureapps\n",
    "- Como tudo no Python, existem várias bibliotecas que podem ajudar nisso, usaremos a yagmail porque ela simplifica muito a nossa vida\n",
    "- Precisamos instalar o Yagmail"
   ]
  },
  {
   "cell_type": "code",
   "execution_count": 6,
   "metadata": {},
   "outputs": [],
   "source": [
    "import yagmail"
   ]
  }
 ],
 "metadata": {
  "kernelspec": {
   "display_name": "Python 3",
   "language": "python",
   "name": "python3"
  },
  "language_info": {
   "codemirror_mode": {
    "name": "ipython",
    "version": 3
   },
   "file_extension": ".py",
   "mimetype": "text/x-python",
   "name": "python",
   "nbconvert_exporter": "python",
   "pygments_lexer": "ipython3",
   "version": "3.8.3"
  }
 },
 "nbformat": 4,
 "nbformat_minor": 4
}
