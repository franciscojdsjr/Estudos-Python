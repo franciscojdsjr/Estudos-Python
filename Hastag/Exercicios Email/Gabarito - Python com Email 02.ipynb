{
 "cells": [
  {
   "cell_type": "markdown",
   "metadata": {},
   "source": [
    "# Integração Python com Gmail - Usando yagmail\n",
    "\n",
    "### 2 métodos principais\n",
    "\n",
    "- yagmail.smtp"
   ]
  },
  {
   "cell_type": "raw",
   "metadata": {},
   "source": [
    "usuario = yagmail.SMTP(user='usuario@gmail.com', password='senha')"
   ]
  },
  {
   "cell_type": "markdown",
   "metadata": {},
   "source": [
    "- .send"
   ]
  },
  {
   "cell_type": "raw",
   "metadata": {},
   "source": [
    "usuario.send(to='destinatario', subject='assunto', contents='conteúdo do email')"
   ]
  },
  {
   "cell_type": "markdown",
   "metadata": {},
   "source": [
    "### Enviando E-mail"
   ]
  },
  {
   "cell_type": "code",
   "execution_count": 11,
   "metadata": {},
   "outputs": [
    {
     "data": {
      "text/plain": [
       "{}"
      ]
     },
     "execution_count": 11,
     "metadata": {},
     "output_type": "execute_result"
    }
   ],
   "source": [
    "import yagmail\n",
    "\n",
    "usuario = yagmail.SMTP(user='pythonimpressionador@gmail.com', password='Lira@123')\n",
    "usuario.send(to='joaoprlira@gmail.com', subject='Meu primeiro Email no Python', contents='Fala ai, Lira, meu 1º email')"
   ]
  },
  {
   "cell_type": "markdown",
   "metadata": {},
   "source": [
    "### Enviando E-mail com Anexo(s)"
   ]
  },
  {
   "cell_type": "code",
   "execution_count": 12,
   "metadata": {},
   "outputs": [
    {
     "data": {
      "text/plain": [
       "{}"
      ]
     },
     "execution_count": 12,
     "metadata": {},
     "output_type": "execute_result"
    }
   ],
   "source": [
    "usuario.send(to='joaoprlira@gmail.com', subject='Relatório Financeiro', \\\n",
    "             contents='Prezado Lira,\\nSegue em anexo o Relatório Financeiro\\nAtt.,', attachments='Financeiro.xlsx')"
   ]
  },
  {
   "cell_type": "markdown",
   "metadata": {},
   "source": [
    "### Cópia, mais de 1 destinatário e outras variações"
   ]
  },
  {
   "cell_type": "code",
   "execution_count": 17,
   "metadata": {},
   "outputs": [
    {
     "data": {
      "text/plain": [
       "{}"
      ]
     },
     "execution_count": 17,
     "metadata": {},
     "output_type": "execute_result"
    }
   ],
   "source": [
    "usuario.send(to='joaoprlira@gmail.com', bcc='hashtagtreinamentos@gmail.com', \\\n",
    "             subject='Meu primeiro Email no Python', contents='Fala ai, Lira, meu 1º email')"
   ]
  },
  {
   "cell_type": "markdown",
   "metadata": {},
   "source": [
    "### Personalizando o texto do e-mail\n",
    "\n",
    "- Com Python normal"
   ]
  },
  {
   "cell_type": "code",
   "execution_count": 20,
   "metadata": {},
   "outputs": [
    {
     "data": {
      "text/plain": [
       "{}"
      ]
     },
     "execution_count": 20,
     "metadata": {},
     "output_type": "execute_result"
    }
   ],
   "source": [
    "#primeira forma: -> lista de frases\n",
    "nome = 'Lira Hashtag'\n",
    "corpo_email = [\n",
    "    'Fala {}, tranquilo?'.format(nome),\n",
    "    'Envio esse e-mail para te passar o relatório de vendas do ano passado',\n",
    "    'Att.,',\n",
    "    'João'\n",
    "]\n",
    "corpo_email = '\\n'.join(corpo_email)\n",
    "\n",
    "#segunda forma: -> string de várias linhas\n",
    "#corpo_email = '''\n",
    "#Fala Lira, tranquilo?\n",
    "#Envio esse e-mail para te passar o relatório de vendas do ano passado.\n",
    "#Att.,\n",
    "#João\n",
    "#'''\n",
    "\n",
    "usuario.send(to='joaoprlira@gmail.com', subject='Meu segundo Email no Python', contents=corpo_email)"
   ]
  },
  {
   "cell_type": "markdown",
   "metadata": {},
   "source": [
    "- Com HTML"
   ]
  },
  {
   "cell_type": "code",
   "execution_count": 22,
   "metadata": {},
   "outputs": [
    {
     "data": {
      "text/plain": [
       "{}"
      ]
     },
     "execution_count": 22,
     "metadata": {},
     "output_type": "execute_result"
    }
   ],
   "source": [
    "corpo_email = '''\n",
    "<p>Fala <b>Lira</b>, tranquilo?</p>\n",
    "<p>Envio esse e-mail para te passar o relatório de vendas do ano passado.</p>\n",
    "<p>Att.,</p>\n",
    "<p>João</p>\n",
    "'''\n",
    "\n",
    "\n",
    "usuario.send(to='joaoprlira@gmail.com', subject='Meu segundo Email no Python', contents=corpo_email)"
   ]
  }
 ],
 "metadata": {
  "kernelspec": {
   "display_name": "Python 3",
   "language": "python",
   "name": "python3"
  },
  "language_info": {
   "codemirror_mode": {
    "name": "ipython",
    "version": 3
   },
   "file_extension": ".py",
   "mimetype": "text/x-python",
   "name": "python",
   "nbconvert_exporter": "python",
   "pygments_lexer": "ipython3",
   "version": "3.8.3"
  }
 },
 "nbformat": 4,
 "nbformat_minor": 4
}
