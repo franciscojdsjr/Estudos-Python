{
 "cells": [
  {
   "cell_type": "markdown",
   "metadata": {},
   "source": [
    "# Desafio Python e E-mail\n",
    "\n",
    "### Descrição\n",
    "\n",
    "Digamos que você trabalha em uma indústria e está responsável pela área de inteligência de negócio.\n",
    "\n",
    "Todo dia, você, a equipe ou até mesmo um programa, gera um report diferente para cada área da empresa:\n",
    "- Financeiro\n",
    "- Logística\n",
    "- Manutenção\n",
    "- Marketing\n",
    "- Operações\n",
    "- Produção\n",
    "- Vendas\n",
    "\n",
    "Cada um desses reports deve ser enviado por e-mail para o Gerente de cada Área.\n",
    "\n",
    "Crie um programa que faça isso automaticamente. A relação de Gerentes (com seus respectivos e-mails) e áreas está no arquivo 'Enviar E-mails.xlsx'.\n",
    "\n",
    "Dica: Use o pandas read_excel para ler o arquivo dos e-mails que isso vai facilitar."
   ]
  },
  {
   "cell_type": "code",
   "execution_count": 2,
   "metadata": {},
   "outputs": [
    {
     "name": "stdout",
     "output_type": "stream",
     "text": [
      "E-mail sobre o gerente: Lira, area: Vendas enviado\n",
      "E-mail sobre o gerente: Julia, area: Produção enviado\n",
      "E-mail sobre o gerente: José, area: Manutenção enviado\n",
      "E-mail sobre o gerente: Gustavo, area: Operações enviado\n",
      "E-mail sobre o gerente: Ana, area: Logística enviado\n",
      "E-mail sobre o gerente: Paula, area: Financeiro enviado\n",
      "E-mail sobre o gerente: Maria, area: Marketing enviado\n"
     ]
    }
   ],
   "source": [
    "import pandas as pd\n",
    "import yagmail\n",
    "usuario = yagmail.SMTP(user='franciscojdsjr@gmail.com', password='rywonlhxsedezoil')\n",
    "\n",
    "copia = ['franciscojdsjr@gmail.com','francisco-junior@outlook.com']\n",
    "\n",
    "gerentes_df = pd.read_excel('Enviar E-mails.xlsx')\n",
    "#gerentes_df.info()\n",
    "\n",
    "for i, email in enumerate(gerentes_df['E-mail']):\n",
    "    gerente = gerentes_df.loc[i, 'Gerente']\n",
    "    area = gerentes_df.loc[i, 'Relatório']\n",
    "    anexo = '/home/francisco/Devlopment/Python Scripts/Hastag/Exercicios Email/{}.xlsx'.format(area)\n",
    "    corpo = '''\n",
    "    Prezado {}, \n",
    "    Segue em anexo o Relatório de {}, conforme solicitado.\n",
    "    Qualquer dúvida estou à disposição.\n",
    "    Att.,\n",
    "    '''.format(gerente, area)\n",
    "    usuario.send(to='franciscojdsjr@gmail.com', \\\n",
    "                cc=copia, \\\n",
    "                subject=  'Relatório de {}'.format(area), \\\n",
    "                contents=corpo, \\\n",
    "                attachments=anexo)\n",
    "    print('E-mail sobre o gerente: {}, area: {} enviado'.format(gerente,area))\n",
    "\n",
    "#posso usar \\ para continuar na proxima linha\n"
   ]
  }
 ],
 "metadata": {
  "kernelspec": {
   "display_name": "Python 3",
   "language": "python",
   "name": "python3"
  },
  "language_info": {
   "codemirror_mode": {
    "name": "ipython",
    "version": 3
   },
   "file_extension": ".py",
   "mimetype": "text/x-python",
   "name": "python",
   "nbconvert_exporter": "python",
   "pygments_lexer": "ipython3",
   "version": "3.8.16"
  }
 },
 "nbformat": 4,
 "nbformat_minor": 4
}
