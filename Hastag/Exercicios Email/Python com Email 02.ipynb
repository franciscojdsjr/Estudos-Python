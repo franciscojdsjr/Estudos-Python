{
 "cells": [
  {
   "cell_type": "markdown",
   "metadata": {},
   "source": [
    "# Integração Python com Gmail - Usando yagmail\n",
    "\n",
    "### 2 métodos principais\n",
    "\n",
    "- yagmail.smtp"
   ]
  },
  {
   "cell_type": "raw",
   "metadata": {},
   "source": [
    "usuario = yagmail.SMTP(user='usuario@gmail.com', password='senha')"
   ]
  },
  {
   "cell_type": "markdown",
   "metadata": {},
   "source": [
    "- .send"
   ]
  },
  {
   "cell_type": "raw",
   "metadata": {},
   "source": [
    "usuario.send(to='destinatario', subject='assunto', contents='conteúdo do email')\n",
    "import yagmail"
   ]
  },
  {
   "cell_type": "markdown",
   "metadata": {},
   "source": [
    "### Enviando E-mail"
   ]
  },
  {
   "cell_type": "code",
   "execution_count": 17,
   "metadata": {},
   "outputs": [
    {
     "data": {
      "text/plain": [
       "{}"
      ]
     },
     "execution_count": 17,
     "metadata": {},
     "output_type": "execute_result"
    }
   ],
   "source": [
    "import yagmail\n",
    "usuario = yagmail.SMTP(user='franciscojdsjr@gmail.com', password='rywonlhxsedezoil')\n",
    "\n",
    "copia = ['franciscojdsjr@gmail.com','francisco-junior@outlook.com']\n",
    "\n",
    "usuario.send(to='franciscojdsjr@gmail.com', \\\n",
    "            cc=copia, \\\n",
    "            subject='Enviado via Python', \\\n",
    "            contents='enviando email direto do python', \\\n",
    "            attachments='/home/francisco/Devlopment/Python Scripts/Hastag/Exercicios Email/Teste.xlsx')\n",
    "\n",
    "#posso usar \\ para continuar na proxima linha\n"
   ]
  },
  {
   "cell_type": "markdown",
   "metadata": {},
   "source": [
    "### Enviando E-mail com Anexo(s)"
   ]
  },
  {
   "cell_type": "code",
   "execution_count": 18,
   "metadata": {},
   "outputs": [],
   "source": [
    "#já esta no bloco superior"
   ]
  },
  {
   "cell_type": "markdown",
   "metadata": {},
   "source": [
    "### Cópia, mais de 1 destinatário e outras variações"
   ]
  },
  {
   "cell_type": "code",
   "execution_count": 19,
   "metadata": {},
   "outputs": [],
   "source": [
    "#já esta no bloco superior\n"
   ]
  },
  {
   "cell_type": "markdown",
   "metadata": {},
   "source": [
    "### Personalizando o texto do e-mail\n",
    "\n",
    "- Com Python normal"
   ]
  },
  {
   "cell_type": "code",
   "execution_count": 21,
   "metadata": {},
   "outputs": [
    {
     "data": {
      "text/plain": [
       "{}"
      ]
     },
     "execution_count": 21,
     "metadata": {},
     "output_type": "execute_result"
    }
   ],
   "source": [
    "import yagmail\n",
    "usuario = yagmail.SMTP(user='franciscojdsjr@gmail.com', password='rywonlhxsedezoil')\n",
    "\n",
    "copia = ['franciscojdsjr@gmail.com','francisco-junior@outlook.com']\n",
    "corpoemail = ['Fala Chicão, Tranquilo?',\n",
    "              'Envio esse email de teste com os dadod de vendas do ano anterior',\n",
    "              'att francisco']\n",
    "\n",
    "corpoemail  = '''\n",
    "Fala Chicão, Tranquilo?\n",
    "Envio esse email de teste com os dados do ano anterior\n",
    "Att.,\n",
    "Francisco.\n",
    "'''\n",
    "\n",
    "##quando usamos 3 aspas conseguimos define que essa string será grande \n",
    "\n",
    "usuario.send(to='franciscojdsjr@gmail.com', \\\n",
    "            cc=copia, \\\n",
    "            subject='Enviado via Python', \\\n",
    "            contents= corpoemail, \\\n",
    "            attachments='/home/francisco/Devlopment/Python Scripts/Hastag/Exercicios Email/Teste.xlsx')\n"
   ]
  },
  {
   "cell_type": "markdown",
   "metadata": {},
   "source": [
    "- Com HTML"
   ]
  },
  {
   "cell_type": "code",
   "execution_count": 24,
   "metadata": {},
   "outputs": [
    {
     "data": {
      "text/plain": [
       "{}"
      ]
     },
     "execution_count": 24,
     "metadata": {},
     "output_type": "execute_result"
    }
   ],
   "source": [
    "import yagmail\n",
    "usuario = yagmail.SMTP(user='franciscojdsjr@gmail.com', password='rywonlhxsedezoil')\n",
    "\n",
    "copia = ['franciscojdsjr@gmail.com','francisco-junior@outlook.com']\n",
    "\n",
    "corpoemail  = '''\n",
    "<p><em><strong>Francisco,</strong></em><br aria-hidden=\"true\" /><em><strong>Bom dia!</strong></em><br aria-hidden=\"true\" /><br aria-hidden=\"true\" /></p>\n",
    "<p>Segue em anexo o relatorio de vendas de 2022</p>\n",
    "<p>&nbsp;</p>\n",
    "<p>Att,</p>\n",
    "<p>Francisco JR</p>\n",
    "'''\n",
    "\n",
    "##quando usamos 3 aspas conseguimos define que essa string será grande \n",
    "\n",
    "usuario.send(to='franciscojdsjr@gmail.com', \\\n",
    "            cc=copia, \\\n",
    "            subject='Enviado via Python', \\\n",
    "            contents= corpoemail, \\\n",
    "            attachments='/home/francisco/Devlopment/Python Scripts/Hastag/Exercicios Email/Teste.xlsx')\n"
   ]
  }
 ],
 "metadata": {
  "kernelspec": {
   "display_name": "base",
   "language": "python",
   "name": "python3"
  },
  "language_info": {
   "codemirror_mode": {
    "name": "ipython",
    "version": 3
   },
   "file_extension": ".py",
   "mimetype": "text/x-python",
   "name": "python",
   "nbconvert_exporter": "python",
   "pygments_lexer": "ipython3",
   "version": "3.9.16"
  },
  "vscode": {
   "interpreter": {
    "hash": "ad2bdc8ecc057115af97d19610ffacc2b4e99fae6737bb82f5d7fb13d2f2c186"
   }
  }
 },
 "nbformat": 4,
 "nbformat_minor": 4
}
