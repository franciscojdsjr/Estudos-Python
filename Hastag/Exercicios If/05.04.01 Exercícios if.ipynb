{
 "cells": [
  {
   "cell_type": "markdown",
   "metadata": {},
   "source": [
    "# Exercícios com if"
   ]
  },
  {
   "cell_type": "markdown",
   "metadata": {},
   "source": [
    "## 1. Cálculo de Bônus\n",
    "\n",
    "- Crie um programa que calcule e dê um print no bônus que os funcionários devem receber segundo a regra:\n",
    "\n",
    "A meta é 1000 vendas.<br> \n",
    "Se o valor de vendas for maior ou igual a meta, o valor do bônus do funcionário é 10% do valor de vendas.<br>\n",
    "Caso contrário o valor de bônus do funcionário é 0.<br>\n",
    "Print o bônus dos 3 funcionários"
   ]
  },
  {
   "cell_type": "code",
   "execution_count": 9,
   "metadata": {},
   "outputs": [
    {
     "name": "stdout",
     "output_type": "stream",
     "text": [
      "O funcionario 1 recebe 100.0 de bônus\n",
      "O funcionario 2 recebe 0 de bônus\n",
      "O funcionario 3 recebe 270.0 de bônus\n"
     ]
    }
   ],
   "source": [
    "vendas_funcionario1 = 1000\n",
    "vendas_funcionario2 = 770\n",
    "vendas_funcionario3 = 2700\n",
    "meta = 1000\n",
    "\n",
    "if vendas_funcionario1 >= meta:\n",
    "    bonus = 0.10 * vendas_funcionario1\n",
    "else: \n",
    "    bonus = 0\n",
    "print('O funcionario 1 recebe {} de bônus'.format(bonus))\n",
    "    \n",
    "if vendas_funcionario2 >= meta:\n",
    "    bonus = 0.10 * vendas_funcionario2\n",
    "\n",
    "else: \n",
    "    bonus = 0\n",
    "print('O funcionario 2 recebe {} de bônus'.format(bonus))\n",
    "\n",
    "if vendas_funcionario3 >= meta:\n",
    "    bonus = 0.10 * vendas_funcionario3\n",
    "else: \n",
    "    bonus = 0\n",
    "print('O funcionario 3 recebe {} de bônus'.format(bonus))    \n",
    "    "
   ]
  },
  {
   "cell_type": "raw",
   "metadata": {},
   "source": [
    "Resposta:\n",
    "O funcionário 1 ganhou 100 de bônus\n",
    "O funcionário 2 ganhou 0 de bônus\n",
    "O funcionário 3 ganhou 270 de bônus"
   ]
  },
  {
   "cell_type": "markdown",
   "metadata": {},
   "source": [
    "## 2. Cálculo de bônus com uma nova regra\n",
    "\n",
    "- Agora, crie um novo código que calcule e dê um print no bônus dos funcionários novamente. Porém há uma nova regra nesse 2º caso:\n",
    "\n",
    "A meta é 1000 vendas<br>\n",
    "Agora, os funcionários que venderem muito acima da meta ganham mais bônus do que os outros. Então o bônus é definido da seguinte forma:<br>\n",
    "\n",
    "- Se vendas funcionário for maior ou igual a 2000, então o bônus é de 15% sobre o valor de vendas\n",
    "- Se vendas funcionário for menor do que 2000 e maior ou igual a 1000, então o bônus é de 10% sobre o valor de vendas\n",
    "- Se vendas funcionário for menos do que 1000 então o bônus do funcionário é de 0.\n",
    "\n",
    "Use as mesmas variáveis de vendas_funcionários"
   ]
  },
  {
   "cell_type": "code",
   "execution_count": 13,
   "metadata": {},
   "outputs": [
    {
     "name": "stdout",
     "output_type": "stream",
     "text": [
      "O funcionario 1 recebe 100.0 de bônus\n",
      "O funcionario 2 recebe 0 de bônus\n",
      "O funcionario 3 recebe 270.0 de bônus\n"
     ]
    }
   ],
   "source": [
    "vendas_funcionario1 = 1000\n",
    "vendas_funcionario2 = 770\n",
    "vendas_funcionario3 = 2700\n",
    "meta = 1000\n",
    "\n",
    "if vendas_funcionario1 >= meta:\n",
    "    if vendas_funcionario1 >= (meta * 2):\n",
    "        bonus = 0.15 * vendas_funcionario1\n",
    "    else:\n",
    "        bonus = 0.10 * vendas_funcionario1\n",
    "else: \n",
    "    bonus = 0\n",
    "print('O funcionario 1 recebe {} de bônus'.format(bonus))\n",
    "    \n",
    "if vendas_funcionario2 >= meta:\n",
    "    if vendas_funcionario2 >= (meta * 2):\n",
    "        bonus = 0.15 * vendas_funcionario2\n",
    "    else:\n",
    "        bonus = 0.10 * vendas_funcionario2\n",
    "else: \n",
    "    bonus = 0\n",
    "print('O funcionario 2 recebe {} de bônus'.format(bonus))\n",
    "\n",
    "##Forma de utilizar elif\n",
    "\n",
    "if vendas_funcionario3 >= (meta * 2):\n",
    "    bonus = 0.10 * vendas_funcionario3\n",
    "elif vendas_funcionario3 >= meta:\n",
    "    bonus = 0.15 * vendas_funcionario3\n",
    "else: \n",
    "    bonus = 0\n",
    "print('O funcionario 3 recebe {} de bônus'.format(bonus))\n",
    "\n"
   ]
  },
  {
   "cell_type": "raw",
   "metadata": {},
   "source": [
    "Resposta:\n",
    "O funcionário 1 ganhou 100 de bônus\n",
    "O funcionário 2 ganhou 0 de bônus\n",
    "O funcionário 3 ganhou 405 de bônus"
   ]
  }
 ],
 "metadata": {
  "kernelspec": {
   "display_name": "Python 3.9.12 ('base')",
   "language": "python",
   "name": "python3"
  },
  "language_info": {
   "codemirror_mode": {
    "name": "ipython",
    "version": 3
   },
   "file_extension": ".py",
   "mimetype": "text/x-python",
   "name": "python",
   "nbconvert_exporter": "python",
   "pygments_lexer": "ipython3",
   "version": "3.9.12"
  },
  "vscode": {
   "interpreter": {
    "hash": "e03b612d84ba21ce95ed447e81b3062e1eb99b56c6d885cdab4aaa12f1b8e240"
   }
  }
 },
 "nbformat": 4,
 "nbformat_minor": 4
}
