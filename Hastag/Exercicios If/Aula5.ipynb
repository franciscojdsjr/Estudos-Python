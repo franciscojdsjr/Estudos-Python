{
 "cells": [
  {
   "cell_type": "markdown",
   "metadata": {},
   "source": [
    "# Exemplo 1"
   ]
  },
  {
   "cell_type": "code",
   "execution_count": 10,
   "metadata": {},
   "outputs": [
    {
     "name": "stdout",
     "output_type": "stream",
     "text": [
      "O Bonus do funcionario1 foi de 450.0\n",
      "O Bonus do funcionario2 foi de 0\n",
      "O Bonus do funcionario3 foi de 1200.0\n"
     ]
    }
   ],
   "source": [
    "meta_funcionario = 10000\n",
    "meta_loja = 250000\n",
    "vendas_funcionarios1 = 15000\n",
    "vendas_funcionarios2 = 5000\n",
    "vendas_funcionarios3 = 20000\n",
    "vendas_loja = 300000\n",
    "\n",
    "\n",
    "if vendas_funcionarios1 > meta_funcionario and vendas_loja > meta_loja:\n",
    "    bonus = 0.03 * vendas_funcionarios1\n",
    "else: bonus = 0\n",
    "print('O Bonus do funcionario1 foi de {}'.format(bonus))\n",
    "\n",
    "if vendas_funcionarios2 > meta_funcionario and vendas_loja > meta_loja:\n",
    "    bonus = 0.03 * vendas_funcionarios2\n",
    "else: bonus = 0\n",
    "print('O Bonus do funcionario2 foi de {}'.format(bonus))\n",
    "\n",
    "\n",
    "if vendas_funcionarios3 >= (meta_funcionario * 2) and vendas_loja > meta_loja:\n",
    "    bonus = 0.06 * vendas_funcionarios3\n",
    "elif vendas_funcionarios3 > meta_funcionario  and vendas_loja > meta_loja:\n",
    "    bonus = 0.03 * vendas_funcionarios3\n",
    "else: \n",
    "    bonus = 0\n",
    "print('O Bonus do funcionario3 foi de {}'.format(bonus))"
   ]
  },
  {
   "cell_type": "markdown",
   "metadata": {},
   "source": [
    "# Exemplo 2\n"
   ]
  },
  {
   "cell_type": "code",
   "execution_count": 12,
   "metadata": {},
   "outputs": [
    {
     "name": "stdout",
     "output_type": "stream",
     "text": [
      "O funcionario1 vendeu 15000 e teve sua em sua avaliação a nota 9 e com isso o seu bonus foi de 450.0.\n",
      "O funcionario2 vendeu 5000 e teve sua em sua avaliação a nota 5 e com isso o seu bonus foi de 300.0.\n",
      "O funcionario3 vendeu 20000 e teve sua em sua avaliação a nota 10 e com isso o seu bonus foi de 1200.0.\n"
     ]
    }
   ],
   "source": [
    "nota_funcionario1 = 9\n",
    "nota_funcionario2 = 5\n",
    "nota_funcionario3 = 10\n",
    "\n",
    "if nota_funcionario1 >= meta_loja or (vendas_funcionarios1 >= (meta_funcionario * 2) and vendas_loja >= meta_loja):\n",
    "    bonus = 0.06 * vendas_funcionarios1\n",
    "elif nota_funcionario1 >= meta_loja or (vendas_funcionarios1 >= meta_funcionario and vendas_loja >= meta_loja):\n",
    "    bonus = 0.03 * vendas_funcionarios1\n",
    "else: bonus = 0\n",
    "print('O funcionario1 vendeu {} e teve sua em sua avaliação a nota {} e com isso o seu bonus foi de {}.'.format(vendas_funcionarios1,nota_funcionario1,bonus))\n",
    "\n",
    "if nota_funcionario2 >= meta_loja or (vendas_funcionarios3 >= (meta_funcionario * 2) and vendas_loja >= meta_loja):\n",
    "    bonus = 0.06 * vendas_funcionarios2\n",
    "elif nota_funcionario2 >= meta_loja or (vendas_funcionarios3 >= meta_funcionario and vendas_loja >= meta_loja):\n",
    "    bonus = 0.03 * vendas_funcionarios2\n",
    "else: bonus = 0\n",
    "print('O funcionario2 vendeu {} e teve sua em sua avaliação a nota {} e com isso o seu bonus foi de {}.'.format(vendas_funcionarios2,nota_funcionario2,bonus))\n",
    "\n",
    "if nota_funcionario3 >= meta_loja or (vendas_funcionarios3 >= (meta_funcionario * 2) and vendas_loja >= meta_loja):\n",
    "    bonus = 0.06 * vendas_funcionarios3\n",
    "elif nota_funcionario3 >= meta_loja or (vendas_funcionarios3 >= meta_funcionario and vendas_loja >= meta_loja):\n",
    "    bonus = 0.03 * vendas_funcionarios3\n",
    "else: bonus = 0\n",
    "print('O funcionario3 vendeu {} e teve sua em sua avaliação a nota {} e com isso o seu bonus foi de {}.'.format(vendas_funcionarios3,nota_funcionario3,bonus))"
   ]
  },
  {
   "cell_type": "code",
   "execution_count": null,
   "metadata": {},
   "outputs": [],
   "source": []
  }
 ],
 "metadata": {
  "kernelspec": {
   "display_name": "Python 3.9.12 ('base')",
   "language": "python",
   "name": "python3"
  },
  "language_info": {
   "codemirror_mode": {
    "name": "ipython",
    "version": 3
   },
   "file_extension": ".py",
   "mimetype": "text/x-python",
   "name": "python",
   "nbconvert_exporter": "python",
   "pygments_lexer": "ipython3",
   "version": "3.9.12"
  },
  "orig_nbformat": 4,
  "vscode": {
   "interpreter": {
    "hash": "e03b612d84ba21ce95ed447e81b3062e1eb99b56c6d885cdab4aaa12f1b8e240"
   }
  }
 },
 "nbformat": 4,
 "nbformat_minor": 2
}
