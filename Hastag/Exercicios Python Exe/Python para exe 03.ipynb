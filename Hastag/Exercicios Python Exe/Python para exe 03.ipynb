{
 "cells": [
  {
   "cell_type": "markdown",
   "metadata": {
    "id": "WrvoB2xCXE32"
   },
   "source": [
    "# Diminuindo o tamanho do executável final - Ambiente Virtual\n",
    "\n",
    "### Objetivo\n",
    "\n",
    "Para diminuir o tamanho do arquivo a ser distribuído no final, vamos criar um ambiente virtual para garantir que teremos apenas as bibliotecas importantes.\n",
    "\n",
    "- Passo 1: Garantir que o código está funcionando\n",
    "- Passo 2: Criar o ambiente virtual\n",
    "- Passo 3: Executar o nosso código por dentro do ambiente virtual\n",
    "- Passo 4: Identificar erros e instalar bibliotecas que faltam, apenas as que o programa pede.\n",
    "- Passo 5: Instalar o pyinstaller e transformar em executável o programa Python"
   ]
  },
  {
   "cell_type": "code",
   "execution_count": null,
   "metadata": {
    "id": "eZ2I65iOXnyt"
   },
   "outputs": [],
   "source": [
    "from twilio.rest import Client\n",
    "\n",
    "# Your Account SID from twilio.com/console\n",
    "account_sid = \"ACca596e344a09c84e754760acd235c786\"\n",
    "# Your Auth Token from twilio.com/console\n",
    "auth_token  = \"2edfe990180d5568d73d317c0d59e259\"\n",
    "\n",
    "client = Client(account_sid, auth_token)\n",
    "\n",
    "message = client.messages.create(\n",
    "    to=\"+5582981772661\", \n",
    "    from_=\"+14754053461\",\n",
    "    body=\"Hello from Python!\")\n",
    "\n",
    "print(message.sid)"
   ]
  }
 ],
 "metadata": {
  "colab": {
   "authorship_tag": "ABX9TyMa71pzVkyapCMNw1KuvpEI",
   "name": "Python para exe 03.ipynb",
   "provenance": []
  },
  "kernelspec": {
   "display_name": "Python 3",
   "language": "python",
   "name": "python3"
  },
  "language_info": {
   "codemirror_mode": {
    "name": "ipython",
    "version": 3
   },
   "file_extension": ".py",
   "mimetype": "text/x-python",
   "name": "python",
   "nbconvert_exporter": "python",
   "pygments_lexer": "ipython3",
   "version": "3.7.3"
  }
 },
 "nbformat": 4,
 "nbformat_minor": 1
}
