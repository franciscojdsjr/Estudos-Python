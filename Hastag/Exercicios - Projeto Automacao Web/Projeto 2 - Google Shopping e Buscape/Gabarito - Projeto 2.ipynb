{
 "cells": [
  {
   "cell_type": "code",
   "execution_count": 1,
   "id": "8469fd7d",
   "metadata": {},
   "outputs": [
    {
     "data": {
      "text/html": [
       "<div>\n",
       "<style scoped>\n",
       "    .dataframe tbody tr th:only-of-type {\n",
       "        vertical-align: middle;\n",
       "    }\n",
       "\n",
       "    .dataframe tbody tr th {\n",
       "        vertical-align: top;\n",
       "    }\n",
       "\n",
       "    .dataframe thead th {\n",
       "        text-align: right;\n",
       "    }\n",
       "</style>\n",
       "<table border=\"1\" class=\"dataframe\">\n",
       "  <thead>\n",
       "    <tr style=\"text-align: right;\">\n",
       "      <th></th>\n",
       "      <th>Nome</th>\n",
       "      <th>Termos banidos</th>\n",
       "      <th>Preço mínimo</th>\n",
       "      <th>Preço máximo</th>\n",
       "    </tr>\n",
       "  </thead>\n",
       "  <tbody>\n",
       "    <tr>\n",
       "      <th>0</th>\n",
       "      <td>iphone 12 64gb</td>\n",
       "      <td>mini watch</td>\n",
       "      <td>3000</td>\n",
       "      <td>3500</td>\n",
       "    </tr>\n",
       "    <tr>\n",
       "      <th>1</th>\n",
       "      <td>rtx 3060</td>\n",
       "      <td>zota galax</td>\n",
       "      <td>4000</td>\n",
       "      <td>4500</td>\n",
       "    </tr>\n",
       "  </tbody>\n",
       "</table>\n",
       "</div>"
      ],
      "text/plain": [
       "             Nome Termos banidos  Preço mínimo  Preço máximo\n",
       "0  iphone 12 64gb     mini watch          3000          3500\n",
       "1        rtx 3060     zota galax          4000          4500"
      ]
     },
     "metadata": {},
     "output_type": "display_data"
    }
   ],
   "source": [
    "# criar um navegador\n",
    "from selenium import webdriver\n",
    "from selenium.webdriver.common.keys import Keys\n",
    "from selenium.webdriver.common.by import By\n",
    "\n",
    "import pandas as pd\n",
    "\n",
    "# criar o navegador\n",
    "nav = webdriver.Chrome()\n",
    "\n",
    "# importar/visualizar a base de dados\n",
    "tabela_produtos = pd.read_excel(\"buscas.xlsx\")\n",
    "display(tabela_produtos)"
   ]
  },
  {
   "cell_type": "markdown",
   "id": "4523d664",
   "metadata": {},
   "source": [
    "Definição das funções de busca no google e no buscape"
   ]
  },
  {
   "cell_type": "code",
   "execution_count": 10,
   "id": "9592b418",
   "metadata": {},
   "outputs": [],
   "source": [
    "import time\n",
    "\n",
    "def busca_google_shopping(nav, produto, termos_banidos, preco_minimo, preco_maximo):\n",
    "    # entrar no google\n",
    "    nav.get(\"https://www.google.com/\")\n",
    "    \n",
    "    # tratar os valores que vieram da tabela\n",
    "    produto = produto.lower()\n",
    "    termos_banidos = termos_banidos.lower()\n",
    "    lista_termos_banidos = termos_banidos.split(\" \")\n",
    "    lista_termos_produto = produto.split(\" \")\n",
    "    preco_maximo = float(preco_maximo)\n",
    "    preco_minimo = float(preco_minimo)\n",
    "    \n",
    "\n",
    "    # pesquisar o nome do produto no google\n",
    "    nav.find_element(By.XPATH, '/html/body/div[1]/div[3]/form/div[1]/div[1]/div[1]/div/div[2]/input').send_keys(produto)\n",
    "    nav.find_element(By.XPATH, '/html/body/div[1]/div[3]/form/div[1]/div[1]/div[1]/div/div[2]/input').send_keys(Keys.ENTER)\n",
    "    \n",
    "    # clicar na aba shopping\n",
    "    elementos = nav.find_elements(By.CLASS_NAME, 'hdtb-mitem')\n",
    "    for item in elementos:\n",
    "        if \"Shopping\" in item.text:\n",
    "            item.click()\n",
    "            break\n",
    "\n",
    "    # pegar a lista de resultados da busca no google shopping\n",
    "    lista_resultados = nav.find_elements(By.CLASS_NAME, 'sh-dgr__grid-result')\n",
    "    \n",
    "    # para cada resultado, ele vai verificar se o resultado corresponde a todas as nossas condicoes\n",
    "    lista_ofertas = [] # lista que a função vai me dar como resposta\n",
    "    for resultado in lista_resultados:\n",
    "        nome = resultado.find_element(By.CLASS_NAME, 'a8Pemb').text\n",
    "        nome = nome.lower()\n",
    "\n",
    "        # verificacao do nome - se no nome tem algum termo banido\n",
    "        tem_termos_banidos = False\n",
    "        for palavra in lista_termos_banidos:\n",
    "            if palavra in nome:\n",
    "                tem_termos_banidos = True\n",
    "        \n",
    "        # verificar se no nome tem todos os termos do nome do produto\n",
    "        tem_todos_termos_produto = True\n",
    "        for palavra in lista_termos_produto:\n",
    "            if palavra not in nome:\n",
    "                tem_todos_termos_produto = False\n",
    "\n",
    "        if not tem_termos_banidos and tem_todos_termos_produto: # verificando o nome\n",
    "            try:\n",
    "                preco = resultado.find_element(By.CLASS_NAME, 'a8Pemb').text\n",
    "                preco = preco.replace(\"R$\", \"\").replace(\" \", \"\").replace(\".\", \"\").replace(\",\", \".\")\n",
    "                preco = float(preco)\n",
    "                # verificando se o preco ta dentro do minimo e maximo\n",
    "                if preco_minimo <= preco <= preco_maximo:\n",
    "                    elemento_link = resultado.find_element(By.CLASS_NAME, 'aULzUe')\n",
    "                    elemento_pai = elemento_link.find_element(By.XPATH, '..')\n",
    "                    link = elemento_pai.get_attribute('href')\n",
    "                    lista_ofertas.append((nome, preco, link))\n",
    "            except:\n",
    "                continue\n",
    "\n",
    "            \n",
    "    return lista_ofertas\n",
    "    \n",
    "    \n",
    "\n",
    "def busca_buscape(nav, produto, termos_banidos, preco_minimo, preco_maximo):\n",
    "    # tratar os valores da função\n",
    "    preco_maximo = float(preco_maximo)\n",
    "    preco_minimo = float(preco_minimo)\n",
    "    produto = produto.lower()\n",
    "    termos_banidos = termos_banidos.lower()\n",
    "    lista_termos_banidos = termos_banidos.split(\" \")\n",
    "    lista_termos_produto = produto.split(\" \")\n",
    "    \n",
    "    \n",
    "    # entrar no buscape\n",
    "    nav.get(\"https://www.buscape.com.br/\")\n",
    "    \n",
    "    # pesquisar pelo produto no buscape\n",
    "    nav.find_element(By.CLASS_NAME, 'search-bar__text-box').send_keys(produto, Keys.ENTER)\n",
    "    \n",
    "    # pegar a lista de resultados da busca do buscape\n",
    "    time.sleep(5)\n",
    "    lista_resultados = nav.find_elements(By.CLASS_NAME, 'Cell_Content__1630r')\n",
    "    \n",
    "    # para cada resultado\n",
    "    lista_ofertas = []\n",
    "    for resultado in lista_resultados:\n",
    "        try:\n",
    "            preco = resultado.find_element(By.CLASS_NAME, 'CellPrice_MainValue__3s0iP').text\n",
    "            nome = resultado.get_attribute('title')\n",
    "            nome = nome.lower()\n",
    "            link = resultado.get_attribute('href')\n",
    "            \n",
    "            # verificacao do nome - se no nome tem algum termo banido\n",
    "            tem_termos_banidos = False\n",
    "            for palavra in lista_termos_banidos:\n",
    "                if palavra in nome:\n",
    "                    tem_termos_banidos = True  \n",
    "                    \n",
    "            # verificar se no nome tem todos os termos do nome do produto\n",
    "            tem_todos_termos_produto = True\n",
    "            for palavra in lista_termos_produto:\n",
    "                if palavra not in nome:\n",
    "                    tem_todos_termos_produto = False            \n",
    "            \n",
    "            if not tem_termos_banidos and tem_todos_termos_produto:\n",
    "                preco = preco.replace(\"R$\", \"\").replace(\" \", \"\").replace(\".\", \"\").replace(\",\", \".\")\n",
    "                preco = float(preco)\n",
    "                if preco_minimo <= preco <= preco_maximo:\n",
    "                    lista_ofertas.append((nome, preco, link))\n",
    "        except:\n",
    "            pass\n",
    "    return lista_ofertas"
   ]
  },
  {
   "cell_type": "code",
   "execution_count": 11,
   "id": "22d1cdeb",
   "metadata": {},
   "outputs": [
    {
     "data": {
      "text/plain": [
       "[]"
      ]
     },
     "execution_count": 11,
     "metadata": {},
     "output_type": "execute_result"
    }
   ],
   "source": [
    "busca_google_shopping(nav,'iphone',' ',3000,5000)"
   ]
  },
  {
   "cell_type": "markdown",
   "id": "24ecf918",
   "metadata": {},
   "source": [
    "Contrução da nossa lista de ofertas encontradas"
   ]
  },
  {
   "cell_type": "code",
   "execution_count": 4,
   "id": "fb53d635",
   "metadata": {},
   "outputs": [
    {
     "ename": "NoSuchElementException",
     "evalue": "Message: no such element: Unable to locate element: {\"method\":\"css selector\",\"selector\":\".Xjkr3b\"}\n  (Session info: chrome=111.0.5563.147)\nStacktrace:\nBacktrace:\n\t(No symbol) [0x00DCDCE3]\n\t(No symbol) [0x00D639D1]\n\t(No symbol) [0x00C74DA8]\n\t(No symbol) [0x00CA019F]\n\t(No symbol) [0x00CA03AB]\n\t(No symbol) [0x00C987D1]\n\t(No symbol) [0x00CBAF14]\n\t(No symbol) [0x00C98726]\n\t(No symbol) [0x00CBB224]\n\t(No symbol) [0x00CCD57C]\n\t(No symbol) [0x00CBACC6]\n\t(No symbol) [0x00C96F68]\n\t(No symbol) [0x00C980CD]\n\tGetHandleVerifier [0x01043832+2506274]\n\tGetHandleVerifier [0x01079794+2727300]\n\tGetHandleVerifier [0x0107E36C+2746716]\n\tGetHandleVerifier [0x00E76690+617600]\n\t(No symbol) [0x00D6C712]\n\t(No symbol) [0x00D71FF8]\n\t(No symbol) [0x00D720DB]\n\t(No symbol) [0x00D7C63B]\n\tBaseThreadInitThunk [0x763D7D49+25]\n\tRtlInitializeExceptionChain [0x779EB74B+107]\n\tRtlClearBits [0x779EB6CF+191]\n",
     "output_type": "error",
     "traceback": [
      "\u001b[1;31m---------------------------------------------------------------------------\u001b[0m",
      "\u001b[1;31mNoSuchElementException\u001b[0m                    Traceback (most recent call last)",
      "Cell \u001b[1;32mIn[4], line 9\u001b[0m\n\u001b[0;32m      6\u001b[0m preco_minimo \u001b[39m=\u001b[39m tabela_produtos\u001b[39m.\u001b[39mloc[linha, \u001b[39m\"\u001b[39m\u001b[39mPreço mínimo\u001b[39m\u001b[39m\"\u001b[39m]\n\u001b[0;32m      7\u001b[0m preco_maximo \u001b[39m=\u001b[39m tabela_produtos\u001b[39m.\u001b[39mloc[linha, \u001b[39m\"\u001b[39m\u001b[39mPreço máximo\u001b[39m\u001b[39m\"\u001b[39m]\n\u001b[1;32m----> 9\u001b[0m lista_ofertas_google_shopping \u001b[39m=\u001b[39m busca_google_shopping(nav, produto, termos_banidos, preco_minimo, preco_maximo)\n\u001b[0;32m     10\u001b[0m \u001b[39mif\u001b[39;00m lista_ofertas_google_shopping:\n\u001b[0;32m     11\u001b[0m     tabela_google_shopping \u001b[39m=\u001b[39m pd\u001b[39m.\u001b[39mDataFrame(lista_ofertas_google_shopping, columns\u001b[39m=\u001b[39m[\u001b[39m'\u001b[39m\u001b[39mproduto\u001b[39m\u001b[39m'\u001b[39m, \u001b[39m'\u001b[39m\u001b[39mpreco\u001b[39m\u001b[39m'\u001b[39m, \u001b[39m'\u001b[39m\u001b[39mlink\u001b[39m\u001b[39m'\u001b[39m])\n",
      "Cell \u001b[1;32mIn[2], line 33\u001b[0m, in \u001b[0;36mbusca_google_shopping\u001b[1;34m(nav, produto, termos_banidos, preco_minimo, preco_maximo)\u001b[0m\n\u001b[0;32m     31\u001b[0m lista_ofertas \u001b[39m=\u001b[39m [] \u001b[39m# lista que a função vai me dar como resposta\u001b[39;00m\n\u001b[0;32m     32\u001b[0m \u001b[39mfor\u001b[39;00m resultado \u001b[39min\u001b[39;00m lista_resultados:\n\u001b[1;32m---> 33\u001b[0m     nome \u001b[39m=\u001b[39m resultado\u001b[39m.\u001b[39;49mfind_element(By\u001b[39m.\u001b[39;49mCLASS_NAME, \u001b[39m'\u001b[39;49m\u001b[39mXjkr3b\u001b[39;49m\u001b[39m'\u001b[39;49m)\u001b[39m.\u001b[39mtext\n\u001b[0;32m     34\u001b[0m     nome \u001b[39m=\u001b[39m nome\u001b[39m.\u001b[39mlower()\n\u001b[0;32m     36\u001b[0m     \u001b[39m# verificacao do nome - se no nome tem algum termo banido\u001b[39;00m\n",
      "File \u001b[1;32mc:\\ProgramData\\Anaconda3\\lib\\site-packages\\selenium\\webdriver\\remote\\webelement.py:426\u001b[0m, in \u001b[0;36mWebElement.find_element\u001b[1;34m(self, by, value)\u001b[0m\n\u001b[0;32m    423\u001b[0m     by \u001b[39m=\u001b[39m By\u001b[39m.\u001b[39mCSS_SELECTOR\n\u001b[0;32m    424\u001b[0m     value \u001b[39m=\u001b[39m \u001b[39mf\u001b[39m\u001b[39m'\u001b[39m\u001b[39m[name=\u001b[39m\u001b[39m\"\u001b[39m\u001b[39m{\u001b[39;00mvalue\u001b[39m}\u001b[39;00m\u001b[39m\"\u001b[39m\u001b[39m]\u001b[39m\u001b[39m'\u001b[39m\n\u001b[1;32m--> 426\u001b[0m \u001b[39mreturn\u001b[39;00m \u001b[39mself\u001b[39;49m\u001b[39m.\u001b[39;49m_execute(Command\u001b[39m.\u001b[39;49mFIND_CHILD_ELEMENT, {\u001b[39m\"\u001b[39;49m\u001b[39musing\u001b[39;49m\u001b[39m\"\u001b[39;49m: by, \u001b[39m\"\u001b[39;49m\u001b[39mvalue\u001b[39;49m\u001b[39m\"\u001b[39;49m: value})[\u001b[39m\"\u001b[39m\u001b[39mvalue\u001b[39m\u001b[39m\"\u001b[39m]\n",
      "File \u001b[1;32mc:\\ProgramData\\Anaconda3\\lib\\site-packages\\selenium\\webdriver\\remote\\webelement.py:404\u001b[0m, in \u001b[0;36mWebElement._execute\u001b[1;34m(self, command, params)\u001b[0m\n\u001b[0;32m    402\u001b[0m     params \u001b[39m=\u001b[39m {}\n\u001b[0;32m    403\u001b[0m params[\u001b[39m\"\u001b[39m\u001b[39mid\u001b[39m\u001b[39m\"\u001b[39m] \u001b[39m=\u001b[39m \u001b[39mself\u001b[39m\u001b[39m.\u001b[39m_id\n\u001b[1;32m--> 404\u001b[0m \u001b[39mreturn\u001b[39;00m \u001b[39mself\u001b[39;49m\u001b[39m.\u001b[39;49m_parent\u001b[39m.\u001b[39;49mexecute(command, params)\n",
      "File \u001b[1;32mc:\\ProgramData\\Anaconda3\\lib\\site-packages\\selenium\\webdriver\\remote\\webdriver.py:440\u001b[0m, in \u001b[0;36mWebDriver.execute\u001b[1;34m(self, driver_command, params)\u001b[0m\n\u001b[0;32m    438\u001b[0m response \u001b[39m=\u001b[39m \u001b[39mself\u001b[39m\u001b[39m.\u001b[39mcommand_executor\u001b[39m.\u001b[39mexecute(driver_command, params)\n\u001b[0;32m    439\u001b[0m \u001b[39mif\u001b[39;00m response:\n\u001b[1;32m--> 440\u001b[0m     \u001b[39mself\u001b[39;49m\u001b[39m.\u001b[39;49merror_handler\u001b[39m.\u001b[39;49mcheck_response(response)\n\u001b[0;32m    441\u001b[0m     response[\u001b[39m\"\u001b[39m\u001b[39mvalue\u001b[39m\u001b[39m\"\u001b[39m] \u001b[39m=\u001b[39m \u001b[39mself\u001b[39m\u001b[39m.\u001b[39m_unwrap_value(response\u001b[39m.\u001b[39mget(\u001b[39m\"\u001b[39m\u001b[39mvalue\u001b[39m\u001b[39m\"\u001b[39m, \u001b[39mNone\u001b[39;00m))\n\u001b[0;32m    442\u001b[0m     \u001b[39mreturn\u001b[39;00m response\n",
      "File \u001b[1;32mc:\\ProgramData\\Anaconda3\\lib\\site-packages\\selenium\\webdriver\\remote\\errorhandler.py:245\u001b[0m, in \u001b[0;36mErrorHandler.check_response\u001b[1;34m(self, response)\u001b[0m\n\u001b[0;32m    243\u001b[0m         alert_text \u001b[39m=\u001b[39m value[\u001b[39m\"\u001b[39m\u001b[39malert\u001b[39m\u001b[39m\"\u001b[39m]\u001b[39m.\u001b[39mget(\u001b[39m\"\u001b[39m\u001b[39mtext\u001b[39m\u001b[39m\"\u001b[39m)\n\u001b[0;32m    244\u001b[0m     \u001b[39mraise\u001b[39;00m exception_class(message, screen, stacktrace, alert_text)  \u001b[39m# type: ignore[call-arg]  # mypy is not smart enough here\u001b[39;00m\n\u001b[1;32m--> 245\u001b[0m \u001b[39mraise\u001b[39;00m exception_class(message, screen, stacktrace)\n",
      "\u001b[1;31mNoSuchElementException\u001b[0m: Message: no such element: Unable to locate element: {\"method\":\"css selector\",\"selector\":\".Xjkr3b\"}\n  (Session info: chrome=111.0.5563.147)\nStacktrace:\nBacktrace:\n\t(No symbol) [0x00DCDCE3]\n\t(No symbol) [0x00D639D1]\n\t(No symbol) [0x00C74DA8]\n\t(No symbol) [0x00CA019F]\n\t(No symbol) [0x00CA03AB]\n\t(No symbol) [0x00C987D1]\n\t(No symbol) [0x00CBAF14]\n\t(No symbol) [0x00C98726]\n\t(No symbol) [0x00CBB224]\n\t(No symbol) [0x00CCD57C]\n\t(No symbol) [0x00CBACC6]\n\t(No symbol) [0x00C96F68]\n\t(No symbol) [0x00C980CD]\n\tGetHandleVerifier [0x01043832+2506274]\n\tGetHandleVerifier [0x01079794+2727300]\n\tGetHandleVerifier [0x0107E36C+2746716]\n\tGetHandleVerifier [0x00E76690+617600]\n\t(No symbol) [0x00D6C712]\n\t(No symbol) [0x00D71FF8]\n\t(No symbol) [0x00D720DB]\n\t(No symbol) [0x00D7C63B]\n\tBaseThreadInitThunk [0x763D7D49+25]\n\tRtlInitializeExceptionChain [0x779EB74B+107]\n\tRtlClearBits [0x779EB6CF+191]\n"
     ]
    }
   ],
   "source": [
    "tabela_ofertas = pd.DataFrame()\n",
    "\n",
    "for linha in tabela_produtos.index:\n",
    "    produto = tabela_produtos.loc[linha, \"Nome\"]\n",
    "    termos_banidos = tabela_produtos.loc[linha, \"Termos banidos\"]\n",
    "    preco_minimo = tabela_produtos.loc[linha, \"Preço mínimo\"]\n",
    "    preco_maximo = tabela_produtos.loc[linha, \"Preço máximo\"]\n",
    "    \n",
    "    lista_ofertas_google_shopping = busca_google_shopping(nav, produto, termos_banidos, preco_minimo, preco_maximo)\n",
    "    if lista_ofertas_google_shopping:\n",
    "        tabela_google_shopping = pd.DataFrame(lista_ofertas_google_shopping, columns=['produto', 'preco', 'link'])\n",
    "        tabela_ofertas = tabela_ofertas.append(tabela_google_shopping)\n",
    "    else:\n",
    "        tabela_google_shopping = None\n",
    "        \n",
    "    lista_ofertas_buscape = busca_buscape(nav, produto, termos_banidos, preco_minimo, preco_maximo)\n",
    "    if lista_ofertas_buscape:\n",
    "        tabela_buscape = pd.DataFrame(lista_ofertas_buscape, columns=['produto', 'preco', 'link'])\n",
    "        tabela_ofertas = tabela_ofertas.append(tabela_buscape)\n",
    "    else:\n",
    "        tabela_buscape = None\n",
    "\n",
    "display(tabela_ofertas)"
   ]
  },
  {
   "cell_type": "markdown",
   "id": "845320a5",
   "metadata": {},
   "source": [
    "Exportar a base de ofertas para Excel"
   ]
  },
  {
   "cell_type": "code",
   "execution_count": null,
   "id": "dee16081",
   "metadata": {},
   "outputs": [],
   "source": [
    "# exportar pro excel\n",
    "tabela_ofertas = tabela_ofertas.reset_index(drop=True)\n",
    "tabela_ofertas.to_excel(\"Ofertas.xlsx\", index=False)\n"
   ]
  },
  {
   "cell_type": "markdown",
   "id": "b6388cd2",
   "metadata": {},
   "source": [
    "Enviando o e-mail"
   ]
  },
  {
   "cell_type": "code",
   "execution_count": null,
   "id": "742debbd",
   "metadata": {},
   "outputs": [],
   "source": [
    "# enviar por e-mail o resultado da tabela\n",
    "import win32com.client as win32\n",
    "\n",
    "#verificando se existe alguma oferta dentro da tabela de ofertas\n",
    "if len(tabela_ofertas.index) > 0:\n",
    "    # vou enviar email\n",
    "    outlook = win32.Dispatch('outlook.application')\n",
    "    mail = outlook.CreateItem(0)\n",
    "    mail.To = 'pythonimpressionador@gmail.com'\n",
    "    mail.Subject = 'Produto(s) Encontrado(s) na faixa de preço desejada'\n",
    "    mail.HTMLBody = f\"\"\"\n",
    "    <p>Prezados,</p>\n",
    "    <p>Encontramos alguns produtos em oferta dentro da faixa de preço desejada. Segue tabela com detalhes</p>\n",
    "    {tabela_ofertas.to_html(index=False)}\n",
    "    <p>Qualquer dúvida estou à disposição</p>\n",
    "    <p>Att.,</p>\n",
    "    \"\"\"\n",
    "    \n",
    "    mail.Send()\n",
    "\n",
    "nav.quit()  "
   ]
  },
  {
   "cell_type": "code",
   "execution_count": null,
   "id": "b289b057",
   "metadata": {},
   "outputs": [],
   "source": []
  }
 ],
 "metadata": {
  "kernelspec": {
   "display_name": "Python 3",
   "language": "python",
   "name": "python3"
  },
  "language_info": {
   "codemirror_mode": {
    "name": "ipython",
    "version": 3
   },
   "file_extension": ".py",
   "mimetype": "text/x-python",
   "name": "python",
   "nbconvert_exporter": "python",
   "pygments_lexer": "ipython3",
   "version": "3.9.16"
  }
 },
 "nbformat": 4,
 "nbformat_minor": 5
}
