{
 "cells": [
  {
   "cell_type": "code",
   "execution_count": 25,
   "metadata": {},
   "outputs": [
    {
     "name": "stdout",
     "output_type": "stream",
     "text": [
      "39\n",
      "30\n",
      "27\n",
      "18\n"
     ]
    }
   ],
   "source": [
    "idade1 = 39\n",
    "idade2 = 30\n",
    "idade3 = 27\n",
    "idade4 = 18\n",
    "\n",
    "print(idade1)\n",
    "print(idade2)\n",
    "print(idade3)\n",
    "print(idade4)\n"
   ]
  },
  {
   "cell_type": "code",
   "execution_count": 43,
   "metadata": {},
   "outputs": [
    {
     "data": {
      "text/plain": [
       "4"
      ]
     },
     "execution_count": 43,
     "metadata": {},
     "output_type": "execute_result"
    }
   ],
   "source": [
    "idades = [39,30,27,18]\n",
    "type(idades)\n",
    "\n",
    "\n",
    "len(idades)\n",
    "\n"
   ]
  },
  {
   "cell_type": "code",
   "execution_count": 27,
   "metadata": {},
   "outputs": [
    {
     "name": "stdout",
     "output_type": "stream",
     "text": [
      "[39, 27, 18, 15]\n"
     ]
    }
   ],
   "source": [
    "idades.remove(30)\n",
    "idades.append(15)\n",
    "idades.append(15)\n",
    "\n",
    "idades.remove(15)\n",
    "\n",
    "\n",
    "print(idades)\n"
   ]
  },
  {
   "cell_type": "code",
   "execution_count": 29,
   "metadata": {},
   "outputs": [
    {
     "name": "stdout",
     "output_type": "stream",
     "text": [
      "15 não está em idades\n"
     ]
    }
   ],
   "source": [
    "\n",
    "if 15 in idades:\n",
    "    idades.remove(15)\n",
    "else:\n",
    "    print('15 não está em idades')"
   ]
  },
  {
   "cell_type": "code",
   "execution_count": 44,
   "metadata": {},
   "outputs": [
    {
     "name": "stdout",
     "output_type": "stream",
     "text": [
      "[39, 30, 27, 18, 18, 19, 20, 21, 25]\n"
     ]
    }
   ],
   "source": [
    "idades2 = [18,19,20,21,25]\n",
    "idades.extend([18,19,20,21,25])\n",
    "print(idades)\n"
   ]
  },
  {
   "cell_type": "code",
   "execution_count": 48,
   "metadata": {},
   "outputs": [
    {
     "name": "stdout",
     "output_type": "stream",
     "text": [
      "[39, 30, 27, 25]\n"
     ]
    }
   ],
   "source": [
    "idade_new = []\n",
    "for  idade in idades:\n",
    "    if idade > 21:\n",
    "        idade + 100\n",
    "        idade_new.append(idade)\n",
    "print(idade_new)"
   ]
  },
  {
   "cell_type": "code",
   "execution_count": 49,
   "metadata": {},
   "outputs": [],
   "source": [
    "def faz_processamento_visualizacao(lista):\n",
    "    print(len(lista))\n",
    "    \n"
   ]
  },
  {
   "cell_type": "code",
   "execution_count": 50,
   "metadata": {},
   "outputs": [
    {
     "name": "stdout",
     "output_type": "stream",
     "text": [
      "5\n"
     ]
    },
    {
     "data": {
      "text/plain": [
       "[16, 21, 29, 56, 43]"
      ]
     },
     "execution_count": 50,
     "metadata": {},
     "output_type": "execute_result"
    }
   ],
   "source": [
    "idades = [16,21,29,56,43]\n",
    "faz_processamento_visualizacao(idades)\n",
    "idades"
   ]
  },
  {
   "cell_type": "code",
   "execution_count": 7,
   "metadata": {},
   "outputs": [],
   "source": [
    "class Conta:\n",
    "    def __init__(self,conta):\n",
    "        self.conta = conta\n",
    "        self.saldo = 0\n",
    "        \n",
    "    def deposita(self,valor):\n",
    "        self.saldo += valor\n",
    "    \n",
    "    def __str__(self):\n",
    "        return 'Sua conta é: {} \\nO Seu saldo é: {}'.format(self.conta,self.saldo)"
   ]
  },
  {
   "cell_type": "code",
   "execution_count": 8,
   "metadata": {},
   "outputs": [
    {
     "name": "stdout",
     "output_type": "stream",
     "text": [
      "Sua conta é:50 \n",
      "O Seu saldo é: 250\n"
     ]
    }
   ],
   "source": [
    "conta_francisco = Conta(50)\n",
    "conta_francisco.deposita(250)\n",
    "print(conta_francisco)"
   ]
  },
  {
   "attachments": {},
   "cell_type": "markdown",
   "metadata": {},
   "source": [
    "##Herança e Polimorfismo"
   ]
  },
  {
   "cell_type": "code",
   "execution_count": 2,
   "metadata": {},
   "outputs": [],
   "source": [
    "from abc import ABCMeta, abstractmethod\n",
    "\n",
    "class Conta(metaclass=ABCMeta):\n",
    "\n",
    "    def __init__(self, codigo):\n",
    "        self._codigo = codigo\n",
    "        self._saldo = 0\n",
    "\n",
    "    def deposita(self, valor):\n",
    "        self._saldo += valor\n",
    "\n",
    "    @abstractmethod\n",
    "    def passa_o_mes(self):\n",
    "        pass\n",
    "\n",
    "    def __str__(self):\n",
    "        return \"[>>Codigo {} Saldo {}<<]\".format(self._codigo, self._saldo)\n"
   ]
  },
  {
   "cell_type": "code",
   "execution_count": 3,
   "metadata": {},
   "outputs": [],
   "source": [
    "class ContaCorrente(Conta):\n",
    "\n",
    "  def passa_o_mes(self):\n",
    "    self._saldo -= 2\n",
    "  \n",
    "\n",
    "class ContaPoupanca(Conta):\n",
    "\n",
    "  def passa_o_mes(self):\n",
    "    self._saldo *= 1.01\n",
    "    self._saldo -= 3\n",
    "  \n",
    "\n",
    "class ContaInvestimento(Conta):\n",
    "  pass\n"
   ]
  },
  {
   "cell_type": "code",
   "execution_count": 5,
   "metadata": {},
   "outputs": [],
   "source": [
    "conta16 = ContaCorrente(16)\n",
    "conta16.deposita(1000)\n",
    "conta17 = ContaPoupanca(17)\n",
    "conta17.deposita(1000)\n",
    "contas = [conta16, conta17]\n",
    "\n",
    "for conta in contas:\n",
    "  conta.passa_o_mes()\n"
   ]
  },
  {
   "cell_type": "code",
   "execution_count": 40,
   "metadata": {},
   "outputs": [
    {
     "name": "stdout",
     "output_type": "stream",
     "text": [
      "[>>Codigo 17 Saldo 1007.0<<]\n",
      "[>>Codigo 16 Saldo 998<<]\n"
     ]
    }
   ],
   "source": [
    "print(conta17)\n",
    "print(conta16)"
   ]
  },
  {
   "cell_type": "code",
   "execution_count": 6,
   "metadata": {},
   "outputs": [
    {
     "data": {
      "text/plain": [
       "array('d', [1.0, 3.5])"
      ]
     },
     "execution_count": 6,
     "metadata": {},
     "output_type": "execute_result"
    }
   ],
   "source": [
    "import array as arr\n",
    "\n",
    "arr.array('d',[1 , 3.5])"
   ]
  },
  {
   "cell_type": "code",
   "execution_count": 8,
   "metadata": {},
   "outputs": [
    {
     "data": {
      "text/plain": [
       "array([1. , 3.5])"
      ]
     },
     "execution_count": 8,
     "metadata": {},
     "output_type": "execute_result"
    }
   ],
   "source": [
    "import numpy as np\n",
    "\n",
    "numeros = np.array([1,3.5])\n",
    "numeros"
   ]
  },
  {
   "cell_type": "code",
   "execution_count": 13,
   "metadata": {},
   "outputs": [
    {
     "data": {
      "text/plain": [
       "array([1. , 3.5])"
      ]
     },
     "execution_count": 13,
     "metadata": {},
     "output_type": "execute_result"
    }
   ],
   "source": [
    "numeros + 3\n",
    "\n",
    "numeros"
   ]
  },
  {
   "cell_type": "code",
   "execution_count": 54,
   "metadata": {},
   "outputs": [
    {
     "data": {
      "text/plain": [
       "True"
      ]
     },
     "execution_count": 54,
     "metadata": {},
     "output_type": "execute_result"
    }
   ],
   "source": [
    "from functools import total_ordering\n",
    "\n",
    "\n",
    "@total_ordering\n",
    "class ContaSalario: \n",
    "\n",
    "    def __init__(self, codigo):\n",
    "        self._codigo = codigo\n",
    "        self._saldo = 0\n",
    "\n",
    "    def __eq__(self, outro):\n",
    "        if type(outro) != ContaSalario:\n",
    "            return False\n",
    "        return self.codigo == outro._codigo and self._saldo == outro._saldo\n",
    "    \n",
    "    def __lt__(self,outro):\n",
    "        if self._saldo != outro._saldo:\n",
    "            return self._saldo < outro._saldo\n",
    "        return self._codigo < outro._codigo\n",
    "\n",
    "    def deposita(self, valor):\n",
    "        self._saldo += valor\n",
    "\n",
    "    def __str__(self):\n",
    "        return \"[>>Codigo {} Saldo {}<<]\".format(self._codigo, self._saldo)\n",
    "\n",
    "\n",
    "isinstance(ContaCorrente(34), ContaCorrente)\n",
    "\n",
    "\n"
   ]
  },
  {
   "cell_type": "code",
   "execution_count": 38,
   "metadata": {},
   "outputs": [
    {
     "name": "stdout",
     "output_type": "stream",
     "text": [
      "[>>Codigo 16 Saldo 998<<]\n",
      "[>>Codigo 17 Saldo 1007.0<<]\n"
     ]
    }
   ],
   "source": [
    "conta16 = ContaCorrente(16)\n",
    "conta16.deposita(1000)\n",
    "conta17 = ContaPoupanca(17)\n",
    "conta17.deposita(1000)\n",
    "contas = [conta16, conta17]\n",
    "\n",
    "for conta in contas:\n",
    "  conta.passa_o_mes()\n",
    "\n",
    "for conta in contas:\n",
    "    print(conta)\n"
   ]
  },
  {
   "cell_type": "code",
   "execution_count": 33,
   "metadata": {},
   "outputs": [
    {
     "name": "stdout",
     "output_type": "stream",
     "text": [
      "[>>Codigo 15 Saldo 500<<]\n",
      "[>>Codigo 16 Saldo 500<<]\n",
      "[>>Codigo 17 Saldo 1000<<]\n"
     ]
    }
   ],
   "source": [
    "from operator import attrgetter\n",
    "\n",
    "for conta in sorted(contas,key=attrgetter('_saldo','_codigo')):\n",
    "    print(conta)\n",
    "\n"
   ]
  },
  {
   "cell_type": "code",
   "execution_count": 56,
   "metadata": {},
   "outputs": [
    {
     "data": {
      "text/plain": [
       "True"
      ]
     },
     "execution_count": 56,
     "metadata": {},
     "output_type": "execute_result"
    }
   ],
   "source": [
    "conta16 = ContaSalario(16)\n",
    "conta16.deposita(500)\n",
    "conta17 = ContaSalario(17)\n",
    "conta17.deposita(1000)\n",
    "conta15 = ContaSalario(15)\n",
    "conta15.deposita(500)\n",
    "contas = [conta16, conta17, conta15]\n",
    "\n",
    "\n",
    "conta16 >= conta17\n",
    "conta16 <= conta17\n",
    "\n"
   ]
  },
  {
   "cell_type": "code",
   "execution_count": 42,
   "metadata": {},
   "outputs": [
    {
     "name": "stdout",
     "output_type": "stream",
     "text": [
      "[>>Codigo 17 Saldo 1000<<]\n",
      "[>>Codigo 16 Saldo 500<<]\n",
      "[>>Codigo 15 Saldo 500<<]\n",
      "[>>Codigo 15 Saldo 500<<]\n",
      "[>>Codigo 16 Saldo 500<<]\n",
      "[>>Codigo 17 Saldo 1000<<]\n"
     ]
    }
   ],
   "source": [
    "for conta in sorted(contas, reverse=True):\n",
    "    print(conta)\n",
    "\n",
    "for conta in sorted(contas, reverse=False):\n",
    "    print(conta)"
   ]
  },
  {
   "cell_type": "code",
   "execution_count": 3,
   "metadata": {},
   "outputs": [
    {
     "name": "stdout",
     "output_type": "stream",
     "text": [
      "0 15\n",
      "1 87\n",
      "2 65\n",
      "3 56\n",
      "4 32\n",
      "5 49\n",
      "6 37\n"
     ]
    }
   ],
   "source": [
    "idades = [15,87,65,56,32,49,37]\n",
    "\n",
    "for i in range(len(idades)):\n",
    "    print(i, idades[i])"
   ]
  },
  {
   "cell_type": "code",
   "execution_count": 4,
   "metadata": {},
   "outputs": [
    {
     "data": {
      "text/plain": [
       "[(0, 15), (1, 87), (2, 65), (3, 56), (4, 32), (5, 49), (6, 37)]"
      ]
     },
     "execution_count": 4,
     "metadata": {},
     "output_type": "execute_result"
    }
   ],
   "source": [
    "list(enumerate(idades))"
   ]
  },
  {
   "cell_type": "code",
   "execution_count": 9,
   "metadata": {},
   "outputs": [
    {
     "name": "stdout",
     "output_type": "stream",
     "text": [
      "0 | 15\n",
      "1 | 87\n",
      "2 | 65\n",
      "3 | 56\n",
      "4 | 32\n",
      "5 | 49\n",
      "6 | 37\n"
     ]
    }
   ],
   "source": [
    "for indice, valor in enumerate(idades):\n",
    "    print(indice,'|',valor)"
   ]
  },
  {
   "cell_type": "code",
   "execution_count": 12,
   "metadata": {},
   "outputs": [
    {
     "name": "stdout",
     "output_type": "stream",
     "text": [
      "15\n",
      "87\n",
      "65\n",
      "56\n",
      "32\n",
      "49\n",
      "37\n"
     ]
    }
   ],
   "source": [
    "for indice, valor in enumerate(idades):\n",
    "    print(valor)\n",
    "    \n"
   ]
  },
  {
   "cell_type": "code",
   "execution_count": 18,
   "metadata": {},
   "outputs": [
    {
     "name": "stdout",
     "output_type": "stream",
     "text": [
      "15\n",
      "87\n",
      "65\n",
      "56\n",
      "32\n",
      "49\n",
      "37\n"
     ]
    },
    {
     "data": {
      "text/plain": [
       "[87, 65, 56, 49, 37, 32, 15]"
      ]
     },
     "execution_count": 18,
     "metadata": {},
     "output_type": "execute_result"
    }
   ],
   "source": [
    "for _, valor in enumerate(idades):\n",
    "    print(valor)\n",
    "\n",
    "sorted(idades) #ordenar lista asc\n",
    "sorted(idades, reverse=True) #ordenar lista  desc"
   ]
  },
  {
   "cell_type": "code",
   "execution_count": null,
   "metadata": {},
   "outputs": [],
   "source": []
  }
 ],
 "metadata": {
  "kernelspec": {
   "display_name": "base",
   "language": "python",
   "name": "python3"
  },
  "language_info": {
   "codemirror_mode": {
    "name": "ipython",
    "version": 3
   },
   "file_extension": ".py",
   "mimetype": "text/x-python",
   "name": "python",
   "nbconvert_exporter": "python",
   "pygments_lexer": "ipython3",
   "version": "3.7.15 (default, Nov 24 2022, 21:12:53) \n[GCC 11.2.0]"
  },
  "orig_nbformat": 4,
  "vscode": {
   "interpreter": {
    "hash": "f9a117f9b0c690ecb136c9f00b99f8f3ee62e1139d2a33f8de939840a6186ba4"
   }
  }
 },
 "nbformat": 4,
 "nbformat_minor": 2
}
