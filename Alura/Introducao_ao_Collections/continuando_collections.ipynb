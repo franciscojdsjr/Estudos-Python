{
 "cells": [
  {
   "cell_type": "code",
   "execution_count": 24,
   "metadata": {},
   "outputs": [
    {
     "data": {
      "text/plain": [
       "{13, 15, 23, 42, 43, 56}"
      ]
     },
     "execution_count": 24,
     "metadata": {},
     "output_type": "execute_result"
    }
   ],
   "source": [
    "usuarios_data_science = [15,23,43,56]\n",
    "usuarios_machine_learning = [13,23,56,42]\n",
    "\n",
    "assistiram = {}\n",
    "assistiram = usuarios_data_science.copy()\n",
    "assistiram.extend(usuarios_machine_learning)\n",
    "\n",
    "set(assistiram) #transforma em conjunto e retira duplicados e ordena"
   ]
  },
  {
   "cell_type": "code",
   "execution_count": 27,
   "metadata": {},
   "outputs": [
    {
     "data": {
      "text/plain": [
       "6"
      ]
     },
     "execution_count": 27,
     "metadata": {},
     "output_type": "execute_result"
    }
   ],
   "source": [
    "usuarios_data_science = {15,23,43,56}\n",
    "usuarios_machine_learning = {13,23,56,42}\n",
    "\n",
    "\n",
    "usuarios_data_science | usuarios_machine_learning #popde se usar & para ver o que é duplicado\n",
    "\n",
    "usuarios_data_science - usuarios_machine_learning #para deixar valores unicos dentro da variavel\n",
    "\n",
    "\n"
   ]
  },
  {
   "attachments": {},
   "cell_type": "markdown",
   "metadata": {},
   "source": [
    "O que são conjuntos;\n",
    "Criar conjuntos;\n",
    "Utilizar o | para juntar conjuntos;\n",
    "Utilizar o & para juntar apenas números que estão no mesmo conjunto;\n",
    "Utilizar o - para remover números repetidos que estão no em dois conjuntos;\n",
    "O que é ou (^) exclusivo."
   ]
  },
  {
   "cell_type": "code",
   "execution_count": 37,
   "metadata": {},
   "outputs": [
    {
     "name": "stdout",
     "output_type": "stream",
     "text": [
      "('Carlos', 1)\n",
      "('Guilherme', 1)\n",
      "('cachorro', 2)\n",
      "('nome', 2)\n",
      "('vindo', 1)\n",
      "Carlos\n",
      "Guilherme\n",
      "cachorro\n",
      "nome\n",
      "vindo\n"
     ]
    }
   ],
   "source": [
    "aparicoes = {'Carlos': 1, 'Guilherme': 1, 'cachorro': 2, 'nome': 2, 'vindo': 1}\n",
    "\n",
    "'Carlos' in aparicoes\n",
    "\n",
    "for elemento in aparicoes.items():\n",
    "    print(elemento)\n",
    "    \n",
    "\n",
    "for elemento in aparicoes.keys():\n",
    "    print(elemento)"
   ]
  },
  {
   "attachments": {},
   "cell_type": "markdown",
   "metadata": {},
   "source": [
    "#O que aprendemos nesta aula:\n",
    "\n",
    "O que é um dicionário;\n",
    "Verificar se o elemento está dentro do dicionário;\n",
    "Utilizar o get para verificação;\n",
    "Criar um dicionário a partir do dict;\n",
    "Adicionar um elemento no dicionário;\n",
    "Remover um elemento do dicionário;\n",
    "Mostrar os elementos dentro do dicionário;\n",
    "Usar a função keys para pegar as chaves;\n",
    "Usar a função values para pegar os valores;\n",
    "Percorrer linha a linha com a função items."
   ]
  },
  {
   "cell_type": "code",
   "execution_count": 41,
   "metadata": {},
   "outputs": [
    {
     "data": {
      "text/plain": [
       "'Bem vindo meu nome é guilherme eu gosto muito de nomes e tenho o meu cachorro e gosto muito de cachorro'"
      ]
     },
     "execution_count": 41,
     "metadata": {},
     "output_type": "execute_result"
    }
   ],
   "source": [
    "meu_texto = \"Bem vindo meu nome é Guilherme eu gosto muito de nomes e tenho o meu cachorro e gosto muito de cachorro\"\n",
    "meu_texto = meu_texto.lower()\n",
    "meu_texto = meu_texto.capitalize()\n",
    "\n",
    "meu_texto"
   ]
  }
 ],
 "metadata": {
  "kernelspec": {
   "display_name": "base",
   "language": "python",
   "name": "python3"
  },
  "language_info": {
   "codemirror_mode": {
    "name": "ipython",
    "version": 3
   },
   "file_extension": ".py",
   "mimetype": "text/x-python",
   "name": "python",
   "nbconvert_exporter": "python",
   "pygments_lexer": "ipython3",
   "version": "3.7.15"
  },
  "orig_nbformat": 4,
  "vscode": {
   "interpreter": {
    "hash": "f9a117f9b0c690ecb136c9f00b99f8f3ee62e1139d2a33f8de939840a6186ba4"
   }
  }
 },
 "nbformat": 4,
 "nbformat_minor": 2
}
