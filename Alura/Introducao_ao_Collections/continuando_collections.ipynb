{
 "cells": [
  {
   "cell_type": "code",
   "execution_count": 24,
   "metadata": {},
   "outputs": [
    {
     "data": {
      "text/plain": [
       "{13, 15, 23, 42, 43, 56}"
      ]
     },
     "execution_count": 24,
     "metadata": {},
     "output_type": "execute_result"
    }
   ],
   "source": [
    "usuarios_data_science = [15,23,43,56]\n",
    "usuarios_machine_learning = [13,23,56,42]\n",
    "\n",
    "assistiram = {}\n",
    "assistiram = usuarios_data_science.copy()\n",
    "assistiram.extend(usuarios_machine_learning)\n",
    "\n",
    "set(assistiram) #transforma em conjunto e retira duplicados e ordena"
   ]
  },
  {
   "cell_type": "code",
   "execution_count": 27,
   "metadata": {},
   "outputs": [
    {
     "data": {
      "text/plain": [
       "6"
      ]
     },
     "execution_count": 27,
     "metadata": {},
     "output_type": "execute_result"
    }
   ],
   "source": [
    "usuarios_data_science = {15,23,43,56}\n",
    "usuarios_machine_learning = {13,23,56,42}\n",
    "\n",
    "\n",
    "usuarios_data_science | usuarios_machine_learning #popde se usar & para ver o que é duplicado\n",
    "\n",
    "usuarios_data_science - usuarios_machine_learning #para deixar valores unicos dentro da variavel\n",
    "\n",
    "\n"
   ]
  },
  {
   "attachments": {},
   "cell_type": "markdown",
   "metadata": {},
   "source": [
    "O que são conjuntos;\n",
    "Criar conjuntos;\n",
    "Utilizar o | para juntar conjuntos;\n",
    "Utilizar o & para juntar apenas números que estão no mesmo conjunto;\n",
    "Utilizar o - para remover números repetidos que estão no em dois conjuntos;\n",
    "O que é ou (^) exclusivo."
   ]
  },
  {
   "cell_type": "code",
   "execution_count": 37,
   "metadata": {},
   "outputs": [
    {
     "name": "stdout",
     "output_type": "stream",
     "text": [
      "('Carlos', 1)\n",
      "('Guilherme', 1)\n",
      "('cachorro', 2)\n",
      "('nome', 2)\n",
      "('vindo', 1)\n",
      "Carlos\n",
      "Guilherme\n",
      "cachorro\n",
      "nome\n",
      "vindo\n"
     ]
    }
   ],
   "source": [
    "aparicoes = {'Carlos': 1, 'Guilherme': 1, 'cachorro': 2, 'nome': 2, 'vindo': 1}\n",
    "\n",
    "'Carlos' in aparicoes\n",
    "\n",
    "for elemento in aparicoes.items():\n",
    "    print(elemento)\n",
    "    \n",
    "\n",
    "for elemento in aparicoes.keys():\n",
    "    print(elemento)"
   ]
  },
  {
   "attachments": {},
   "cell_type": "markdown",
   "metadata": {},
   "source": [
    "#O que aprendemos nesta aula:\n",
    "\n",
    "O que é um dicionário;\n",
    "Verificar se o elemento está dentro do dicionário;\n",
    "Utilizar o get para verificação;\n",
    "Criar um dicionário a partir do dict;\n",
    "Adicionar um elemento no dicionário;\n",
    "Remover um elemento do dicionário;\n",
    "Mostrar os elementos dentro do dicionário;\n",
    "Usar a função keys para pegar as chaves;\n",
    "Usar a função values para pegar os valores;\n",
    "Percorrer linha a linha com a função items."
   ]
  },
  {
   "cell_type": "code",
   "execution_count": 44,
   "metadata": {},
   "outputs": [
    {
     "data": {
      "text/plain": [
       "'bem vindo meu nome é guilherme eu gosto muito de nomes e tenho o meu cachorro e gosto muito de cachorro'"
      ]
     },
     "execution_count": 44,
     "metadata": {},
     "output_type": "execute_result"
    }
   ],
   "source": [
    "meu_texto = \"Bem vindo meu nome é Guilherme eu gosto muito de nomes e tenho o meu cachorro e gosto muito de cachorro\"\n",
    "meu_texto = meu_texto.lower()\n",
    "\n",
    "\n",
    "meu_texto"
   ]
  },
  {
   "cell_type": "code",
   "execution_count": 48,
   "metadata": {},
   "outputs": [
    {
     "data": {
      "text/plain": [
       "{'bem': 1,\n",
       " 'vindo': 1,\n",
       " 'meu': 2,\n",
       " 'nome': 1,\n",
       " 'é': 1,\n",
       " 'guilherme': 1,\n",
       " 'eu': 1,\n",
       " 'gosto': 2,\n",
       " 'muito': 2,\n",
       " 'de': 2,\n",
       " 'nomes': 1,\n",
       " 'e': 2,\n",
       " 'tenho': 1,\n",
       " 'o': 1,\n",
       " 'cachorro': 2}"
      ]
     },
     "execution_count": 48,
     "metadata": {},
     "output_type": "execute_result"
    }
   ],
   "source": [
    "aparicoes = {}\n",
    "ate_agora = 0\n",
    "\n",
    "for palavra in meu_texto.split():\n",
    "    ate_agora = aparicoes.get(palavra,0)\n",
    "    aparicoes[palavra] = ate_agora + 1\n",
    "    \n",
    "aparicoes"
   ]
  },
  {
   "cell_type": "code",
   "execution_count": 53,
   "metadata": {},
   "outputs": [
    {
     "data": {
      "text/plain": [
       "defaultdict(int,\n",
       "            {'bem': 1,\n",
       "             'vindo': 1,\n",
       "             'meu': 2,\n",
       "             'nome': 1,\n",
       "             'é': 1,\n",
       "             'guilherme': 1,\n",
       "             'eu': 1,\n",
       "             'gosto': 2,\n",
       "             'muito': 2,\n",
       "             'de': 2,\n",
       "             'nomes': 1,\n",
       "             'e': 2,\n",
       "             'tenho': 1,\n",
       "             'o': 1,\n",
       "             'cachorro': 2})"
      ]
     },
     "execution_count": 53,
     "metadata": {},
     "output_type": "execute_result"
    }
   ],
   "source": [
    "from collections import defaultdict\n",
    "\n",
    "aparicoes = defaultdict(int)\n",
    "\n",
    "\n",
    "for palavra in meu_texto.split():\n",
    "    aparicoes[palavra] += 1\n",
    "    \n",
    "aparicoes"
   ]
  },
  {
   "cell_type": "code",
   "execution_count": 54,
   "metadata": {},
   "outputs": [],
   "source": [
    "class Conta:\n",
    "    def __init__(self):\n",
    "        print('imprimindo uma conta')"
   ]
  },
  {
   "cell_type": "code",
   "execution_count": 56,
   "metadata": {},
   "outputs": [],
   "source": [
    "contas = defaultdict(Conta)\n",
    "\n"
   ]
  },
  {
   "cell_type": "code",
   "execution_count": 57,
   "metadata": {},
   "outputs": [
    {
     "name": "stdout",
     "output_type": "stream",
     "text": [
      "imprimindo uma conta\n"
     ]
    },
    {
     "data": {
      "text/plain": [
       "<__main__.Conta at 0x7f3ea2d5af10>"
      ]
     },
     "execution_count": 57,
     "metadata": {},
     "output_type": "execute_result"
    }
   ],
   "source": [
    "contas[15]"
   ]
  },
  {
   "cell_type": "code",
   "execution_count": 2,
   "metadata": {},
   "outputs": [
    {
     "ename": "NameError",
     "evalue": "name 'meu_texto' is not defined",
     "output_type": "error",
     "traceback": [
      "\u001b[0;31m---------------------------------------------------------------------------\u001b[0m",
      "\u001b[0;31mNameError\u001b[0m                                 Traceback (most recent call last)",
      "\u001b[0;32m/tmp/ipykernel_275/1768930438.py\u001b[0m in \u001b[0;36m<module>\u001b[0;34m\u001b[0m\n\u001b[1;32m      1\u001b[0m \u001b[0;32mfrom\u001b[0m \u001b[0mcollections\u001b[0m \u001b[0;32mimport\u001b[0m \u001b[0mCounter\u001b[0m\u001b[0;34m\u001b[0m\u001b[0;34m\u001b[0m\u001b[0m\n\u001b[1;32m      2\u001b[0m \u001b[0;34m\u001b[0m\u001b[0m\n\u001b[0;32m----> 3\u001b[0;31m \u001b[0maparicoes\u001b[0m \u001b[0;34m=\u001b[0m \u001b[0mCounter\u001b[0m\u001b[0;34m(\u001b[0m\u001b[0mmeu_texto\u001b[0m\u001b[0;34m.\u001b[0m\u001b[0msplit\u001b[0m\u001b[0;34m(\u001b[0m\u001b[0;34m)\u001b[0m\u001b[0;34m)\u001b[0m\u001b[0;34m\u001b[0m\u001b[0;34m\u001b[0m\u001b[0m\n\u001b[0m\u001b[1;32m      4\u001b[0m \u001b[0;34m\u001b[0m\u001b[0m\n\u001b[1;32m      5\u001b[0m \u001b[0maparicoes\u001b[0m\u001b[0;34m\u001b[0m\u001b[0;34m\u001b[0m\u001b[0m\n",
      "\u001b[0;31mNameError\u001b[0m: name 'meu_texto' is not defined"
     ]
    }
   ],
   "source": [
    "from collections import Counter\n",
    "\n",
    "aparicoes = Counter(meu_texto.split())\n",
    "\n",
    "aparicoes"
   ]
  },
  {
   "cell_type": "code",
   "execution_count": 1,
   "metadata": {},
   "outputs": [],
   "source": [
    "texto1 = 'A linguagem Python está entre as 3 linguagens mais populares no mundo, segundo a pesquisa da RedMonk. Essa popularidade se dá principalmente por sua característica de exigir poucas linhas de código e permitir uma leitura fácil, além de ter várias bibliotecas do mundo de desenvolvimento web, Data Science, Machine Learning, automação e jogos. \\n Na Formação Python e orientação a objetos, você vai aprender a versão 3 dessa linguagem na prática, aplicando orientação a objetos em seu código e boas práticas de programação. Você também vai entender como tratamos erros e conhecer diversas funcionalidades para tratar os diferentes tipos de coleções. Veremos também como ler e escrever diferentes formatos de arquivos usando Python. \\nAo final, você terá uma base sólida sobre a linguagem além de ter praticado com projetos, formando o conhecimento necessário para mergulhar cada vez mais na área Python para projetos web com Django e Flask.'\n",
    "\n",
    "texto2 = 'Para começar, conheceremos a sintaxe da linguagem e algumas das funcionalidades novas que vieram com o Python 3. Para isso, utilizaremos a IDE PyCharm, que será onde você vai escrever o seu código rapidamente e com maior eficiência e criar seus primeiros programas. \\nNessa primeira parte veremos os conceitos básicos de variáveis, operadores aritméticos e booleanos, funções e muito mais! \\nEm seguida veremos alguns conceitos básicos do paradigma de orientação a objetos, muito utilizado por diversas bibliotecas e companhias no mercado de trabalho e que nos mostra uma outra maneira de pensar sobre o código.'\n",
    "\n"
   ]
  },
  {
   "cell_type": "code",
   "execution_count": 19,
   "metadata": {},
   "outputs": [
    {
     "name": "stdout",
     "output_type": "stream",
     "text": [
      "Caractere:   -> Frequencia 15.69%\n",
      "Caractere: e -> Frequencia 9.71%\n",
      "Caractere: a -> Frequencia 9.28%\n",
      "Caractere: o -> Frequencia 7.79%\n",
      "Caractere: r -> Frequencia 5.87%\n",
      "Caractere: s -> Frequencia 5.55%\n",
      "Caractere: i -> Frequencia 4.91%\n",
      "Caractere: n -> Frequencia 4.80%\n",
      "Caractere: t -> Frequencia 4.16%\n",
      "Caractere: d -> Frequencia 3.84%\n",
      "--------------------------------------------------------------------\n",
      "Caractere:   -> Frequencia 15.69%\n",
      "Caractere: e -> Frequencia 9.71%\n",
      "Caractere: a -> Frequencia 9.28%\n",
      "Caractere: o -> Frequencia 7.79%\n",
      "Caractere: r -> Frequencia 5.87%\n",
      "Caractere: s -> Frequencia 5.55%\n",
      "Caractere: i -> Frequencia 4.91%\n",
      "Caractere: n -> Frequencia 4.80%\n",
      "Caractere: t -> Frequencia 4.16%\n",
      "Caractere: d -> Frequencia 3.84%\n"
     ]
    }
   ],
   "source": [
    "from collections import Counter\n",
    "\n",
    "def analise_frequencia_letras(texto):\n",
    "    aparicoes = Counter(texto1.lower())\n",
    "    total_de_caracteres = sum(aparicoes.values())\n",
    "    \n",
    "    proporcoes = [(letra, frequencia / total_de_caracteres) for letra,frequencia in aparicoes.items()]\n",
    "    proporcoes = Counter(dict(proporcoes))\n",
    "    mais_comum = proporcoes.most_common(10)\n",
    "    for caractere, proporcao in  mais_comum :\n",
    "        print('Caractere: {} -> Frequencia {:2.2%}'.format(caractere,proporcao))\n",
    "    \n",
    "\n",
    "analise_frequencia_letras(texto1)\n",
    "print('--------------------------------------------------------------------')\n",
    "analise_frequencia_letras(texto2)"
   ]
  }
 ],
 "metadata": {
  "kernelspec": {
   "display_name": "base",
   "language": "python",
   "name": "python3"
  },
  "language_info": {
   "codemirror_mode": {
    "name": "ipython",
    "version": 3
   },
   "file_extension": ".py",
   "mimetype": "text/x-python",
   "name": "python",
   "nbconvert_exporter": "python",
   "pygments_lexer": "ipython3",
   "version": "3.7.15"
  },
  "orig_nbformat": 4,
  "vscode": {
   "interpreter": {
    "hash": "f9a117f9b0c690ecb136c9f00b99f8f3ee62e1139d2a33f8de939840a6186ba4"
   }
  }
 },
 "nbformat": 4,
 "nbformat_minor": 2
}
